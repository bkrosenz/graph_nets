{
  "nbformat": 4,
  "nbformat_minor": 0,
  "metadata": {
    "colab": {
      "name": "cifar10.ipynb",
      "provenance": [],
      "collapsed_sections": [],
      "toc_visible": true,
      "authorship_tag": "ABX9TyMCqP8sPVb56M0C3nkiUhCH",
      "include_colab_link": true
    },
    "kernelspec": {
      "name": "python3",
      "display_name": "Python 3"
    }
  },
  "cells": [
    {
      "cell_type": "markdown",
      "metadata": {
        "id": "view-in-github",
        "colab_type": "text"
      },
      "source": [
        "<a href=\"https://colab.research.google.com/github/bkrosenz/graph_nets/blob/master/demos_tf2/cifar10.ipynb\" target=\"_parent\"><img src=\"https://colab.research.google.com/assets/colab-badge.svg\" alt=\"Open In Colab\"/></a>"
      ]
    },
    {
      "cell_type": "markdown",
      "metadata": {
        "colab_type": "text",
        "id": "y4TOXSlnTcSB"
      },
      "source": [
        "# Preamble"
      ]
    },
    {
      "cell_type": "code",
      "metadata": {
        "colab_type": "code",
        "id": "9f811iaTTbmI",
        "colab": {}
      },
      "source": [
        "import sys\n",
        "assert sys.version_info >= (3, 6), \"Sonnet 2 requires Python >=3.6\""
      ],
      "execution_count": 0,
      "outputs": []
    },
    {
      "cell_type": "code",
      "metadata": {
        "colab_type": "code",
        "id": "5R3-sAFoTiyB",
        "outputId": "1e3721ca-8fad-41d0-a14f-7b4a74d8b312",
        "colab": {
          "base_uri": "https://localhost:8080/",
          "height": 350
        }
      },
      "source": [
        "#!pip install dm-sonnet tqdm\n",
        "\n",
        "#@title ### Install the Graph Nets library on this Colaboratory runtime  { form-width: \"60%\", run: \"auto\"}\n",
        "#@markdown <br>1. Connect to a local or hosted Colaboratory runtime by clicking the **Connect** button at the top-right.<br>2. Choose \"Yes\" below to install the Graph Nets library on the runtime machine with the correct dependencies. Note, this works both with local and hosted Colaboratory runtimes.\n",
        "\n",
        "install_graph_nets_library = \"Yes\"  #@param [\"Yes\", \"No\"]\n",
        "\n",
        "if install_graph_nets_library.lower() == \"yes\":\n",
        "  print(\"Installing Graph Nets library and dependencies:\")\n",
        "  print(\"Output message from command:\\n\")\n",
        "  !pip install graph_nets \"dm-sonnet\" \"tensorflow-probability\"\n",
        "else:\n",
        "  print(\"Skipping installation of Graph Nets library\")\n",
        "\n",
        "# print(\"Installing dependencies for Colab environment\")\n",
        "# !pip install -q -Uq grpcio==1.29.0\n",
        "\n",
        "\n",
        "# print('Installing TensorFlow Transform')\n",
        "# !pip install -q -Uq tensorflow-transform==0.22.0\n",
        "# import tensorflow_transform as tft"
      ],
      "execution_count": 2,
      "outputs": [
        {
          "output_type": "stream",
          "text": [
            "Installing Graph Nets library and dependencies:\n",
            "Output message from command:\n",
            "\n",
            "Requirement already satisfied: graph_nets in /usr/local/lib/python3.6/dist-packages (1.1.0)\n",
            "Requirement already satisfied: dm-sonnet in /usr/local/lib/python3.6/dist-packages (2.0.0)\n",
            "Requirement already satisfied: tensorflow-probability in /usr/local/lib/python3.6/dist-packages (0.10.0)\n",
            "Requirement already satisfied: networkx in /usr/local/lib/python3.6/dist-packages (from graph_nets) (2.4)\n",
            "Requirement already satisfied: dm-tree in /usr/local/lib/python3.6/dist-packages (from graph_nets) (0.1.5)\n",
            "Requirement already satisfied: future in /usr/local/lib/python3.6/dist-packages (from graph_nets) (0.16.0)\n",
            "Requirement already satisfied: absl-py in /usr/local/lib/python3.6/dist-packages (from graph_nets) (0.9.0)\n",
            "Requirement already satisfied: numpy in /usr/local/lib/python3.6/dist-packages (from graph_nets) (1.18.4)\n",
            "Requirement already satisfied: setuptools in /usr/local/lib/python3.6/dist-packages (from graph_nets) (46.3.0)\n",
            "Requirement already satisfied: six in /usr/local/lib/python3.6/dist-packages (from graph_nets) (1.12.0)\n",
            "Requirement already satisfied: tabulate>=0.7.5 in /usr/local/lib/python3.6/dist-packages (from dm-sonnet) (0.8.7)\n",
            "Requirement already satisfied: wrapt>=1.11.1 in /usr/local/lib/python3.6/dist-packages (from dm-sonnet) (1.12.1)\n",
            "Requirement already satisfied: gast>=0.3.2 in /usr/local/lib/python3.6/dist-packages (from tensorflow-probability) (0.3.3)\n",
            "Requirement already satisfied: decorator in /usr/local/lib/python3.6/dist-packages (from tensorflow-probability) (4.4.2)\n",
            "Requirement already satisfied: cloudpickle>=1.2.2 in /usr/local/lib/python3.6/dist-packages (from tensorflow-probability) (1.3.0)\n"
          ],
          "name": "stdout"
        }
      ]
    },
    {
      "cell_type": "code",
      "metadata": {
        "colab_type": "code",
        "id": "RdSVvLnkTmWY",
        "colab": {}
      },
      "source": [
        "import tensorflow.compat.v2 as tf\n",
        "tf.enable_v2_behavior()\n",
        "\n",
        "\n",
        "import tensorflow_probability as tfp\n",
        "import tensorflow_datasets as tfds\n",
        "import sonnet as snt\n",
        "#import tensorflow as tf\n",
        "from graph_nets import blocks\n",
        "from graph_nets import graphs\n",
        "from graph_nets import modules\n",
        "from graph_nets import utils_np\n",
        "from graph_nets import utils_tf\n",
        "import networkx as nx\n",
        "import numpy as np\n",
        "\n"
      ],
      "execution_count": 0,
      "outputs": []
    },
    {
      "cell_type": "code",
      "metadata": {
        "colab_type": "code",
        "id": "uPtNKJwhTnze",
        "outputId": "868ec976-8b0a-4021-9851-de2face57536",
        "colab": {
          "base_uri": "https://localhost:8080/",
          "height": 52
        }
      },
      "source": [
        "print(\"TensorFlow version: {}\".format(tf.__version__))\n",
        "print(\"    Sonnet version: {}\".format(snt.__version__))"
      ],
      "execution_count": 4,
      "outputs": [
        {
          "output_type": "stream",
          "text": [
            "TensorFlow version: 2.2.0\n",
            "    Sonnet version: 2.0.0\n"
          ],
          "name": "stdout"
        }
      ]
    },
    {
      "cell_type": "markdown",
      "metadata": {
        "colab_type": "text",
        "id": "Ab-nCz85sIkh"
      },
      "source": [
        "Finally lets take a quick look at the GPUs we have available:"
      ]
    },
    {
      "cell_type": "code",
      "metadata": {
        "colab_type": "code",
        "id": "elmPgnWJsIUI",
        "outputId": "a5052cd0-839d-4896-c8f3-80a5ca8decb3",
        "colab": {
          "base_uri": "https://localhost:8080/",
          "height": 34
        }
      },
      "source": [
        "!grep Model: /proc/driver/nvidia/gpus/*/information | awk '{$1=\"\";print$0}'\n",
        "\n",
        "physical_gpus = tf.config.experimental.list_physical_devices(\"GPU\")\n"
      ],
      "execution_count": 5,
      "outputs": [
        {
          "output_type": "stream",
          "text": [
            "grep: /proc/driver/nvidia/gpus/*/information: No such file or directory\n"
          ],
          "name": "stdout"
        }
      ]
    },
    {
      "cell_type": "markdown",
      "metadata": {
        "id": "-hSX92yTHnCk",
        "colab_type": "text"
      },
      "source": [
        ""
      ]
    },
    {
      "cell_type": "code",
      "metadata": {
        "id": "xV-l-bd3AarE",
        "colab_type": "code",
        "colab": {}
      },
      "source": [
        ""
      ],
      "execution_count": 0,
      "outputs": []
    },
    {
      "cell_type": "markdown",
      "metadata": {
        "id": "oC4tz482IMyV",
        "colab_type": "text"
      },
      "source": [
        "# Common graph for all inputs\n",
        "Prepare a fixed graph from the sparse precision matrix using a graphical lasso"
      ]
    },
    {
      "cell_type": "code",
      "metadata": {
        "id": "S_D93OXwoDCL",
        "colab_type": "code",
        "colab": {}
      },
      "source": [
        "dataset = (\n",
        "      tfds.load(\"cifar10\", split=\"train\", as_supervised=True)\n",
        "       .batch(10000)\n",
        ")\n",
        "for x,y in dataset.take(1):\n",
        "  x= tf.divide(\n",
        "      tf.cast(\n",
        "          tf.reshape(tf.image.rgb_to_grayscale(x),\n",
        "                     (10000,1024)),\n",
        "              tf.float32),\n",
        "          255.\n",
        "          )\n",
        "\n",
        "cfull=tfp.stats.covariance(x,sample_axis=0)\n",
        "p = tf.math.log(tf.math.abs(tf.linalg.inv(cfull)))"
      ],
      "execution_count": 0,
      "outputs": []
    },
    {
      "cell_type": "code",
      "metadata": {
        "id": "fS25NJ_COnv4",
        "colab_type": "code",
        "outputId": "f7707cc5-34c4-4678-c3b5-2449ca451833",
        "colab": {
          "base_uri": "https://localhost:8080/",
          "height": 330
        }
      },
      "source": [
        "%matplotlib inline\n",
        "import matplotlib.pyplot as plt\n",
        "t_old=0\n",
        "for t in np.arange(5,8,.1):\n",
        "  pfull=p.numpy()\n",
        "  pfull[pfull<t]=0\n",
        "  g=nx.Graph(zip(*np.nonzero(pfull))).to_undirected()\n",
        "  gc=next(nx.connected_components(g))\n",
        "  print(t,len(gc))\n",
        "  if len(gc)<1024:\n",
        "    break\n",
        "  t_old=t\n",
        "  "
      ],
      "execution_count": 7,
      "outputs": [
        {
          "output_type": "stream",
          "text": [
            "5.0 1024\n",
            "5.1 1024\n",
            "5.199999999999999 1024\n",
            "5.299999999999999 1024\n",
            "5.399999999999999 1024\n",
            "5.499999999999998 1024\n",
            "5.599999999999998 1024\n",
            "5.6999999999999975 1024\n",
            "5.799999999999997 1024\n",
            "5.899999999999997 1024\n",
            "5.9999999999999964 1024\n",
            "6.099999999999996 1024\n",
            "6.199999999999996 1024\n",
            "6.299999999999995 1024\n",
            "6.399999999999995 1024\n",
            "6.499999999999995 1024\n",
            "6.599999999999994 1024\n",
            "6.699999999999994 1022\n"
          ],
          "name": "stdout"
        }
      ]
    },
    {
      "cell_type": "code",
      "metadata": {
        "id": "WKH1OC6etLHc",
        "colab_type": "code",
        "outputId": "b66b23c4-5dce-4aaa-e144-91d721eaa790",
        "colab": {
          "base_uri": "https://localhost:8080/",
          "height": 304
        }
      },
      "source": [
        "print(t_old)\n",
        "pfull=p.numpy()\n",
        "cov=cfull.numpy()\n",
        "cov[pfull<t_old]=0\n",
        "\n",
        "pfull[pfull<t_old]=0\n",
        "\n",
        "\n",
        "\n",
        "senders,receivers = np.nonzero(pfull)\n",
        "senders=senders.astype(np.uint16)\n",
        "receivers=receivers.astype(np.uint16)\n",
        "# senders=tf.constant(senders,dtype=tf.uint16)\n",
        "# receivers=tf.constant(receivers,dtype=tf.uint16)\n",
        "# edges = tf.constant(cov[senders,receivers],dtype=tf.float16)\n",
        "edges = cov[senders,receivers].astype(np.float16)\n",
        "\n",
        "np.save('cov.npz',cov)\n",
        "np.save('pfull.npz',pfull)\n",
        "\n",
        "np.fill_diagonal(pfull,0)\n",
        "g=nx.Graph(zip(*np.nonzero(pfull))).to_undirected()\n",
        "\n",
        "\n",
        "degree_sequence=sorted((v for k,v in nx.degree(g)),reverse=True) # degree sequence\n",
        "#print \"Degree sequence\", degree_sequence\n",
        "dmax=max(degree_sequence)\n",
        "plt.loglog(degree_sequence,'b-',marker='o')\n",
        "gc=next(nx.connected_components(g))\n",
        "len(gc)"
      ],
      "execution_count": 8,
      "outputs": [
        {
          "output_type": "stream",
          "text": [
            "6.599999999999994\n"
          ],
          "name": "stdout"
        },
        {
          "output_type": "execute_result",
          "data": {
            "text/plain": [
              "1024"
            ]
          },
          "metadata": {
            "tags": []
          },
          "execution_count": 8
        },
        {
          "output_type": "display_data",
          "data": {
            "image/png": "[encoded data removed]",
            "text/plain": [
              "<Figure size 432x288 with 1 Axes>"
            ]
          },
          "metadata": {
            "tags": [],
            "needs_background": "light"
          }
        }
      ]
    },
    {
      "cell_type": "code",
      "metadata": {
        "id": "dSC7ooYSqNp4",
        "colab_type": "code",
        "outputId": "9071dada-dbac-4f14-a7e5-863df5632536",
        "colab": {
          "base_uri": "https://localhost:8080/",
          "height": 585
        }
      },
      "source": [
        "\n",
        "plt.figure(figsize=(8,8))\n",
        "plt.subplot(221)\n",
        "ax=plt.imshow(cov)\n",
        "plt.colorbar(ax)\n",
        "\n",
        "plt.subplot(222)\n",
        "ax=plt.imshow(cov[:270,:270])\n",
        "plt.colorbar(ax)\n",
        "\n",
        "plt.subplot(223)\n",
        "plt.hist(pfull.ravel(),bins=500,log=True)\n",
        "\n",
        "plt.subplot(224)\n",
        "nx.draw_spectral(g,node_size=5)\n",
        "\n",
        "plt.tight_layout()\n",
        "plt.savefig('res.png')\n",
        "\n",
        "del p,pfull,cov,cfull,x,y,dataset\n"
      ],
      "execution_count": 9,
      "outputs": [
        {
          "output_type": "display_data",
          "data": {
            "image/png": "[encoded data removed]",
            "text/plain": [
              "<Figure size 576x576 with 6 Axes>"
            ]
          },
          "metadata": {
            "tags": []
          }
        }
      ]
    },
    {
      "cell_type": "code",
      "metadata": {
        "id": "5S3wT8BQBmJ_",
        "colab_type": "code",
        "colab": {
          "base_uri": "https://localhost:8080/",
          "height": 34
        },
        "outputId": "bb97d7e5-a6c4-434e-f54d-a6d8f4193d1e"
      },
      "source": [
        "2**15\n",
        "gt=utils_tf.data_dicts_to_graphs_tuple([{\n",
        "      'n_node':1024,\n",
        "    \"senders\": senders,\n",
        "    \"receivers\": receivers,\n",
        "    'globals':[9],\n",
        "    'nodes':range(1024)}])\n",
        "print(utils_np.graphs_tuple_to_networkxs(gt))\n",
        "\n",
        "# senders=tf.cast(senders,dtype=tf.int16)\n",
        "# receivers=tf.cast(receivers,dtype=tf.int16)\n",
        "# edges=tf.cast(edges,tf.float16)"
      ],
      "execution_count": 10,
      "outputs": [
        {
          "output_type": "stream",
          "text": [
            "[<networkx.classes.ordered.OrderedMultiDiGraph object at 0x7f90d6ae54a8>]\n"
          ],
          "name": "stdout"
        }
      ]
    },
    {
      "cell_type": "markdown",
      "metadata": {
        "colab_type": "text",
        "id": "smiRXbgmT9SD"
      },
      "source": [
        "# Dataset\n",
        "\n",
        "CIFAR-10 contains 32x32 pixel color images in 10 different classes (airplanes, cars, birds, cats, deer, dogs, frogs, horses, ships, and trucks).\n",
        "\n",
        "50,000 training and 10,000 testing images\n",
        "\n",
        "top-1 accuracy of Sonnet2's VGG network = 0.84559995\n"
      ]
    },
    {
      "cell_type": "code",
      "metadata": {
        "colab_type": "code",
        "id": "1xOwe9y_T_A4",
        "colab": {}
      },
      "source": [
        "batch_size = 10\n",
        "\n",
        "def process_batch(images, labels):\n",
        "  images = tf.cast(images, dtype=tf.float16)\n",
        "  images = ((images / 255.) - .5) * 2.\n",
        "  images = tf.reshape(images,(-1,3))\n",
        "  graph = utils_tf.data_dicts_to_graphs_tuple([{\n",
        "    'n_node':1024,\n",
        "    \"senders\": senders,\n",
        "    \"receivers\": receivers,\n",
        "    'edges':edges,\n",
        "    'globals':tf.zeros((10,),dtype=tf.float16),\n",
        "    'nodes':images}])\n",
        "  # graph = utils_tf.set_zero_global_features(graph,10)\n",
        "  # graph.receivers=tf.cast(graph.receivers, tf.uint16)\n",
        "  return graph, labels\n",
        "\n",
        "def cifar10(split):\n",
        "  dataset = (\n",
        "      tfds.load(\"cifar10\", split=split, as_supervised=True)\n",
        "       .map(process_batch)\n",
        "       .batch(batch_size)\n",
        "       .prefetch(tf.data.experimental.AUTOTUNE)\n",
        "       .cache()\n",
        "  )\n",
        "  return dataset\n",
        "\n",
        "cifar10_train = cifar10(\"train\").shuffle(10)\n",
        "cifar10_test = cifar10(\"test\")"
      ],
      "execution_count": 0,
      "outputs": []
    },
    {
      "cell_type": "markdown",
      "metadata": {
        "id": "UmwHrrszJhrJ",
        "colab_type": "text"
      },
      "source": [
        "# Build GNN model\n"
      ]
    },
    {
      "cell_type": "code",
      "metadata": {
        "id": "bMHNnOUNJnxL",
        "colab_type": "code",
        "colab": {}
      },
      "source": [
        "NUM_LAYERS = 4 # Hard-code number of layers in the edge/node/global models.\n",
        "LATENT_SIZE = 16  # Hard-code latent layer sizes for demos.\n",
        "\n",
        "def make_mlp_model():\n",
        "  \"\"\"Instantiates a new MLP, followed by LayerNorm.\n",
        "  The parameters of each new MLP are not shared with others generated by\n",
        "  this function.\n",
        "  Returns:\n",
        "    A Sonnet module which contains the MLP and LayerNorm.\n",
        "  \"\"\"\n",
        "  return snt.Sequential([\n",
        "      snt.nets.MLP([LATENT_SIZE] * NUM_LAYERS, activate_final=True),\n",
        "      snt.LayerNorm(axis=-1, create_offset=True, create_scale=True)\n",
        "  ])\n",
        "\n",
        "\n",
        "class MLPGraphIndependent(snt.Module):\n",
        "  \"\"\"GraphIndependent with MLP edge, node, and global models.\"\"\"\n",
        "\n",
        "  def __init__(self, name=\"MLPGraphIndependent\"):\n",
        "    super(MLPGraphIndependent, self).__init__(name=name)\n",
        "    self._network = modules.GraphIndependent(\n",
        "        edge_model_fn=make_mlp_model,\n",
        "        node_model_fn=make_mlp_model,\n",
        "        global_model_fn=make_mlp_model)\n",
        "\n",
        "  def __call__(self, inputs):\n",
        "    return self._network(inputs)\n",
        "\n",
        "\n",
        "class MLPGraphNetwork(snt.Module):\n",
        "  \"\"\"GraphNetwork with MLP edge, node, and global models.\"\"\"\n",
        "\n",
        "  def __init__(self, name=\"MLPGraphNetwork\"):\n",
        "    super(MLPGraphNetwork, self).__init__(name=name)\n",
        "    self._network = modules.GraphNetwork(make_mlp_model, make_mlp_model,\n",
        "                                         make_mlp_model)\n",
        "\n",
        "  def __call__(self, inputs):\n",
        "    return self._network(inputs)\n",
        "\n",
        "\n",
        "class EncodeProcessDecode(snt.Module):\n",
        "  \"\"\"Full encode-process-decode model.\n",
        "  The model we explore includes three components:\n",
        "  - An \"Encoder\" graph net, which independently encodes the edge, node, and\n",
        "    global attributes (does not compute relations etc.).\n",
        "  - A \"Core\" graph net, which performs N rounds of processing (message-passing)\n",
        "    steps. The input to the Core is the concatenation of the Encoder's output\n",
        "    and the previous output of the Core (labeled \"Hidden(t)\" below, where \"t\" is\n",
        "    the processing step).\n",
        "  - A \"Decoder\" graph net, which independently decodes the edge, node, and\n",
        "    global attributes (does not compute relations etc.), on each message-passing\n",
        "    step.\n",
        "                      Hidden(t)   Hidden(t+1)\n",
        "                         |            ^\n",
        "            *---------*  |  *------*  |  *---------*\n",
        "            |         |  |  |      |  |  |         |\n",
        "  Input --->| Encoder |  *->| Core |--*->| Decoder |---> Output(t)\n",
        "            |         |---->|      |     |         |\n",
        "            *---------*     *------*     *---------*\n",
        "  \"\"\"\n",
        "\n",
        "  def __init__(self,\n",
        "               global_output_size=10,\n",
        "               name=\"EncodeProcessDecode\"):\n",
        "    super(EncodeProcessDecode, self).__init__(name=name)\n",
        "    self._encoder = MLPGraphIndependent()\n",
        "    self._core = MLPGraphNetwork()\n",
        "    self._decoder = MLPGraphIndependent()\n",
        "    # Transforms the outputs into the appropriate shapes.\n",
        "    global_fn = lambda: snt.Linear(global_output_size, name=\"global_output\")\n",
        "    self._output_transform = modules.GraphIndependent(global_model_fn=global_fn)\n",
        "\n",
        "  def __call__(self, input_op, num_processing_steps):\n",
        "    latent = self._encoder(input_op)\n",
        "    latent0 = latent\n",
        "    output_ops = []\n",
        "    for _ in range(num_processing_steps):\n",
        "      core_input = utils_tf.concat([latent0, latent], axis=1)\n",
        "      latent = self._core(core_input)\n",
        "      decoded_op = self._decoder(latent)\n",
        "      output_ops.append(self._output_transform(decoded_op))\n",
        "    return output_ops"
      ],
      "execution_count": 0,
      "outputs": []
    },
    {
      "cell_type": "code",
      "metadata": {
        "id": "98wJXg-dBz-q",
        "colab_type": "code",
        "cellView": "code",
        "colab": {}
      },
      "source": [
        "#@title Loss and Accuracy\n",
        "def create_loss(labels,graph):\n",
        "  return tf.nn.sparse_softmax_cross_entropy_with_logits(logits=graph.globals,\n",
        "                                                          labels=labels)\n",
        "  \n",
        "def compute_accuracy():\n",
        "  pass"
      ],
      "execution_count": 0,
      "outputs": []
    },
    {
      "cell_type": "markdown",
      "metadata": {
        "id": "Oi7QGzgBCJCz",
        "colab_type": "text"
      },
      "source": [
        ""
      ]
    },
    {
      "cell_type": "markdown",
      "metadata": {
        "id": "wMTTKBrKJo97",
        "colab_type": "text"
      },
      "source": [
        "# Train"
      ]
    },
    {
      "cell_type": "code",
      "metadata": {
        "id": "gDqANhuoJqMB",
        "colab_type": "code",
        "colab": {}
      },
      "source": [
        "num_processing_steps_tr = 6\n",
        "\n",
        "# Data / training parameters.\n",
        "\n",
        "# Optimizer.\n",
        "learning_rate = 1e-3\n",
        "optimizer = snt.optimizers.Adam(learning_rate)\n",
        "\n",
        "model = EncodeProcessDecode()\n",
        "logged_iterations = []\n",
        "losses_tr = []\n",
        "corrects_tr = []\n",
        "solveds_tr = []\n",
        "losses_ge = []\n",
        "corrects_ge = []\n",
        "solveds_ge = []\n",
        "\n",
        "\n",
        "# Training.\n",
        "#@tf.function\n",
        "def update_step(inputs_tr, targets_tr):\n",
        "  print(inputs_tr.senders,inputs_tr.receivers)\n",
        "  with tf.GradientTape() as tape:\n",
        "    outputs_tr = model(inputs_tr, num_processing_steps_tr)\n",
        "    # Loss.\n",
        "    loss_tr = create_loss(targets_tr, outputs_tr)\n",
        "    loss_tr = tf.math.reduce_sum(loss_tr) / num_processing_steps_tr\n",
        "\n",
        "  gradients = tape.gradient(loss_tr, model.trainable_variables)\n",
        "  optimizer.apply(gradients, model.trainable_variables)\n",
        "  return loss_tr"
      ],
      "execution_count": 0,
      "outputs": []
    },
    {
      "cell_type": "code",
      "metadata": {
        "id": "p74EQEvBDbkG",
        "colab_type": "code",
        "cellView": "code",
        "outputId": "08cba114-6318-45ee-aec7-5d7cabadd6f9",
        "colab": {
          "base_uri": "https://localhost:8080/",
          "height": 419
        }
      },
      "source": [
        "#@title Compiling update_step with `tf_function`  { form-width: \"30%\" }\n",
        "\"\"\"To recover the speed of TensorFlow 1, we need to use `tf.function` to\n",
        "compile the update_step into a graph. However, using `tf.function` naively\n",
        "may futher reduce performance as the number of nodes/edges in the batch can\n",
        "change across batches, tensorflow will repeatedly trace the function multiple\n",
        "times for each unique shape of the input tensors.\n",
        "Instead, we obtain an explicit signature for each input argument to\n",
        "`update_step` using `utils_tf.specs_from_graphs_tuple` that sets `None` sizes\n",
        "for variable length axes in graph fields, preventing `tf.function` from having\n",
        "to trace the function repeatedly.\"\"\"\n",
        "\n",
        "# Get some example data that resembles the tensors that will be fed\n",
        "# into update_step():\n",
        "\n",
        "for x,y in cifar10_train.unbatch().batch(1).take(1):\n",
        "  example_input_data, example_target_data = x,y\n",
        "\n",
        "# example_input_data = utils_tf.set_zero_edge_features(example_input_data, 0)\n",
        "print(example_input_data,'\\ny',example_target_data) \n",
        "# Get the input signature for that function by obtaining the specs\n",
        "input_signature = [\n",
        "  utils_tf.specs_from_graphs_tuple(example_input_data),\n",
        "  tf.TensorSpec((None,))\n",
        "]\n",
        "print(example_input_data)\n",
        "print(input_signature)\n",
        "# Compile the update function using the input signature for speedy code.\n",
        "compiled_update_step = tf.function(update_step, input_signature=input_signature)"
      ],
      "execution_count": 39,
      "outputs": [
        {
          "output_type": "stream",
          "text": [
            "GraphsTuple(nodes=<tf.Tensor: shape=(1, 1024, 3), dtype=float16, numpy=\n",
            "array([[[-0.2393 , -0.09814, -0.5215 ],\n",
            "        [-0.1924 , -0.03516, -0.545  ],\n",
            "        [-0.3335 , -0.1924 , -0.5684 ],\n",
            "        ...,\n",
            "        [-0.4194 , -0.3335 , -0.5684 ],\n",
            "        [-0.3179 , -0.2002 , -0.5293 ],\n",
            "        [-0.349  , -0.255  , -0.545  ]]], dtype=float16)>, edges=<tf.Tensor: shape=(1, 8565), dtype=float16, numpy=\n",
            "array([[0.08093, 0.0778 , 0.07776, ..., 0.0552 , 0.0557 , 0.0581 ]],\n",
            "      dtype=float16)>, receivers=<tf.Tensor: shape=(1, 8565), dtype=int32, numpy=array([[   0,    1,   32, ...,  991, 1022, 1023]], dtype=int32)>, senders=<tf.Tensor: shape=(1, 8565), dtype=int32, numpy=array([[   0,    0,    0, ..., 1023, 1023, 1023]], dtype=int32)>, globals=<tf.Tensor: shape=(1, 1, 10), dtype=float16, numpy=array([[[0., 0., 0., 0., 0., 0., 0., 0., 0., 0.]]], dtype=float16)>, n_node=<tf.Tensor: shape=(1, 1), dtype=int32, numpy=array([[1024]], dtype=int32)>, n_edge=<tf.Tensor: shape=(1, 1), dtype=int32, numpy=array([[8565]], dtype=int32)>) \n",
            "y tf.Tensor([4], shape=(1,), dtype=int64)\n",
            "GraphsTuple(nodes=<tf.Tensor: shape=(1, 1024, 3), dtype=float16, numpy=\n",
            "array([[[-0.2393 , -0.09814, -0.5215 ],\n",
            "        [-0.1924 , -0.03516, -0.545  ],\n",
            "        [-0.3335 , -0.1924 , -0.5684 ],\n",
            "        ...,\n",
            "        [-0.4194 , -0.3335 , -0.5684 ],\n",
            "        [-0.3179 , -0.2002 , -0.5293 ],\n",
            "        [-0.349  , -0.255  , -0.545  ]]], dtype=float16)>, edges=<tf.Tensor: shape=(1, 8565), dtype=float16, numpy=\n",
            "array([[0.08093, 0.0778 , 0.07776, ..., 0.0552 , 0.0557 , 0.0581 ]],\n",
            "      dtype=float16)>, receivers=<tf.Tensor: shape=(1, 8565), dtype=int32, numpy=array([[   0,    1,   32, ...,  991, 1022, 1023]], dtype=int32)>, senders=<tf.Tensor: shape=(1, 8565), dtype=int32, numpy=array([[   0,    0,    0, ..., 1023, 1023, 1023]], dtype=int32)>, globals=<tf.Tensor: shape=(1, 1, 10), dtype=float16, numpy=array([[[0., 0., 0., 0., 0., 0., 0., 0., 0., 0.]]], dtype=float16)>, n_node=<tf.Tensor: shape=(1, 1), dtype=int32, numpy=array([[1024]], dtype=int32)>, n_edge=<tf.Tensor: shape=(1, 1), dtype=int32, numpy=array([[8565]], dtype=int32)>)\n",
            "[GraphsTuple(nodes=TensorSpec(shape=(None, 1024, 3), dtype=tf.float16, name=None), edges=TensorSpec(shape=(None, 8565), dtype=tf.float16, name=None), receivers=TensorSpec(shape=(None, 8565), dtype=tf.int32, name=None), senders=TensorSpec(shape=(None, 8565), dtype=tf.int32, name=None), globals=TensorSpec(shape=(1, 1, 10), dtype=tf.float16, name=None), n_node=TensorSpec(shape=(1, 1), dtype=tf.int32, name=None), n_edge=TensorSpec(shape=(1, 1), dtype=tf.int32, name=None)), TensorSpec(shape=(None,), dtype=tf.float32, name=None)]\n"
          ],
          "name": "stdout"
        }
      ]
    },
    {
      "cell_type": "code",
      "metadata": {
        "id": "88ukg3-4oJVv",
        "colab_type": "code",
        "colab": {
          "base_uri": "https://localhost:8080/",
          "height": 1000
        },
        "outputId": "98c26d77-459f-4fa6-8946-6d10deb2724c"
      },
      "source": [
        "\n",
        "for x,y in cifar10_train.take(1):\n",
        "  example_input_data, example_target_data = x,y\n",
        "\n",
        "# example_input_data = utils_tf.set_zero_edge_features(example_input_data, 0)\n",
        "print(example_input_data,'\\ny',example_target_data) "
      ],
      "execution_count": 40,
      "outputs": [
        {
          "output_type": "stream",
          "text": [
            "GraphsTuple(nodes=<tf.Tensor: shape=(10, 1024, 3), dtype=float16, numpy=\n",
            "array([[[-0.357   , -0.145   , -0.545   ],\n",
            "        [-0.3647  , -0.1528  , -0.545   ],\n",
            "        [-0.2783  , -0.0747  , -0.4512  ],\n",
            "        ...,\n",
            "        [ 0.5605  ,  0.4668  ,  0.545   ],\n",
            "        [ 0.5605  ,  0.4668  ,  0.545   ],\n",
            "        [ 0.5527  ,  0.459   ,  0.545   ]],\n",
            "\n",
            "       [[-0.255   , -0.3018  , -0.435   ],\n",
            "        [-0.1841  , -0.294   , -0.4194  ],\n",
            "        [-0.0747  , -0.3018  , -0.4116  ],\n",
            "        ...,\n",
            "        [-0.3096  , -0.09814 , -0.4272  ],\n",
            "        [-0.2627  , -0.05078 , -0.3882  ],\n",
            "        [-0.3096  , -0.10596 , -0.4194  ]],\n",
            "\n",
            "       [[ 0.3965  ,  0.4824  ,  0.0664  ],\n",
            "        [ 0.3887  ,  0.506   ,  0.003906],\n",
            "        [ 0.498   ,  0.615   ,  0.169   ],\n",
            "        ...,\n",
            "        [ 0.0664  ,  0.2705  , -0.0825  ],\n",
            "        [-0.01172 ,  0.2002  , -0.1763  ],\n",
            "        [ 0.003906,  0.2314  , -0.1606  ]],\n",
            "\n",
            "       ...,\n",
            "\n",
            "       [[-0.02734 , -0.04297 , -0.145   ],\n",
            "        [-0.1924  , -0.208   , -0.3018  ],\n",
            "        [-0.145   , -0.1685  , -0.2393  ],\n",
            "        ...,\n",
            "        [-0.1138  , -0.1763  , -0.2002  ],\n",
            "        [-0.1294  , -0.1924  , -0.2158  ],\n",
            "        [-0.09814 , -0.1685  , -0.1924  ]],\n",
            "\n",
            "       [[ 0.7646  ,  0.7725  ,  0.71    ],\n",
            "        [ 0.4512  ,  0.506   ,  0.3643  ],\n",
            "        [ 0.3643  ,  0.4355  ,  0.2861  ],\n",
            "        ...,\n",
            "        [ 0.3643  ,  0.42    ,  0.372   ],\n",
            "        [ 0.5215  ,  0.537   ,  0.545   ],\n",
            "        [ 0.835   ,  0.827   ,  0.835   ]],\n",
            "\n",
            "       [[ 0.663   ,  0.42    ,  0.3018  ],\n",
            "        [ 0.623   ,  0.3809  ,  0.2705  ],\n",
            "        [ 0.6475  ,  0.4277  ,  0.3174  ],\n",
            "        ...,\n",
            "        [ 0.914   ,  0.7803  ,  0.7256  ],\n",
            "        [ 0.9453  ,  0.8037  ,  0.757   ],\n",
            "        [ 0.9844  ,  0.835   ,  0.8037  ]]], dtype=float16)>, edges=<tf.Tensor: shape=(10, 8565), dtype=float16, numpy=\n",
            "array([[0.08093, 0.0778 , 0.07776, ..., 0.0552 , 0.0557 , 0.0581 ],\n",
            "       [0.08093, 0.0778 , 0.07776, ..., 0.0552 , 0.0557 , 0.0581 ],\n",
            "       [0.08093, 0.0778 , 0.07776, ..., 0.0552 , 0.0557 , 0.0581 ],\n",
            "       ...,\n",
            "       [0.08093, 0.0778 , 0.07776, ..., 0.0552 , 0.0557 , 0.0581 ],\n",
            "       [0.08093, 0.0778 , 0.07776, ..., 0.0552 , 0.0557 , 0.0581 ],\n",
            "       [0.08093, 0.0778 , 0.07776, ..., 0.0552 , 0.0557 , 0.0581 ]],\n",
            "      dtype=float16)>, receivers=<tf.Tensor: shape=(10, 8565), dtype=int32, numpy=\n",
            "array([[   0,    1,   32, ...,  991, 1022, 1023],\n",
            "       [   0,    1,   32, ...,  991, 1022, 1023],\n",
            "       [   0,    1,   32, ...,  991, 1022, 1023],\n",
            "       ...,\n",
            "       [   0,    1,   32, ...,  991, 1022, 1023],\n",
            "       [   0,    1,   32, ...,  991, 1022, 1023],\n",
            "       [   0,    1,   32, ...,  991, 1022, 1023]], dtype=int32)>, senders=<tf.Tensor: shape=(10, 8565), dtype=int32, numpy=\n",
            "array([[   0,    0,    0, ..., 1023, 1023, 1023],\n",
            "       [   0,    0,    0, ..., 1023, 1023, 1023],\n",
            "       [   0,    0,    0, ..., 1023, 1023, 1023],\n",
            "       ...,\n",
            "       [   0,    0,    0, ..., 1023, 1023, 1023],\n",
            "       [   0,    0,    0, ..., 1023, 1023, 1023],\n",
            "       [   0,    0,    0, ..., 1023, 1023, 1023]], dtype=int32)>, globals=<tf.Tensor: shape=(10, 1, 10), dtype=float16, numpy=\n",
            "array([[[0., 0., 0., 0., 0., 0., 0., 0., 0., 0.]],\n",
            "\n",
            "       [[0., 0., 0., 0., 0., 0., 0., 0., 0., 0.]],\n",
            "\n",
            "       [[0., 0., 0., 0., 0., 0., 0., 0., 0., 0.]],\n",
            "\n",
            "       [[0., 0., 0., 0., 0., 0., 0., 0., 0., 0.]],\n",
            "\n",
            "       [[0., 0., 0., 0., 0., 0., 0., 0., 0., 0.]],\n",
            "\n",
            "       [[0., 0., 0., 0., 0., 0., 0., 0., 0., 0.]],\n",
            "\n",
            "       [[0., 0., 0., 0., 0., 0., 0., 0., 0., 0.]],\n",
            "\n",
            "       [[0., 0., 0., 0., 0., 0., 0., 0., 0., 0.]],\n",
            "\n",
            "       [[0., 0., 0., 0., 0., 0., 0., 0., 0., 0.]],\n",
            "\n",
            "       [[0., 0., 0., 0., 0., 0., 0., 0., 0., 0.]]], dtype=float16)>, n_node=<tf.Tensor: shape=(10, 1), dtype=int32, numpy=\n",
            "array([[1024],\n",
            "       [1024],\n",
            "       [1024],\n",
            "       [1024],\n",
            "       [1024],\n",
            "       [1024],\n",
            "       [1024],\n",
            "       [1024],\n",
            "       [1024],\n",
            "       [1024]], dtype=int32)>, n_edge=<tf.Tensor: shape=(10, 1), dtype=int32, numpy=\n",
            "array([[8565],\n",
            "       [8565],\n",
            "       [8565],\n",
            "       [8565],\n",
            "       [8565],\n",
            "       [8565],\n",
            "       [8565],\n",
            "       [8565],\n",
            "       [8565],\n",
            "       [8565]], dtype=int32)>) \n",
            "y tf.Tensor([9 5 2 3 2 1 8 2 7 9], shape=(10,), dtype=int64)\n"
          ],
          "name": "stdout"
        }
      ]
    },
    {
      "cell_type": "code",
      "metadata": {
        "id": "bd0gAd7y3iGF",
        "colab_type": "code",
        "outputId": "d55fdad1-7672-4e98-84b2-8650ecaa2052",
        "cellView": "code",
        "colab": {
          "base_uri": "https://localhost:8080/",
          "height": 540
        }
      },
      "source": [
        "#@title Run training steps  { form-width: \"30%\" }\n",
        "\n",
        "# You can interrupt this cell's training loop at any time, and visualize the\n",
        "# intermediate results by running the next cell (below). You can then resume\n",
        "# training by simply executing this cell again.\n",
        "\n",
        "# Instantiate the model.\n",
        "\n",
        "def train_epoch(dataset):\n",
        "  \"\"\"Performs one epoch of training, returning the mean cross-entropy loss.\"\"\"\n",
        "  total_loss = 0.0\n",
        "  num_batches = 0\n",
        "\n",
        "  # Loop overb the entire training set.\n",
        "  for images, labels in dataset:\n",
        "    # print(images, labels)\n",
        "    # loss_tr = compiled_update_step(images, labels)\n",
        "    loss_tr = update_step(images, labels)\n",
        "    total_loss += loss_tr.sum()\n",
        "    num_batches += 1\n",
        "  print(num_batches)\n",
        "\n",
        "  return total_loss / num_batches\n",
        "\n",
        "for epoch in range(10):\n",
        "  print(\"Training epoch\", epoch, \"...\", end=\" \")\n",
        "  print(\"loss :=\", train_epoch(cifar10_train))\n",
        "  "
      ],
      "execution_count": 43,
      "outputs": [
        {
          "output_type": "stream",
          "text": [
            "Training epoch 0 ... tf.Tensor(\n",
            "[[   0    0    0 ... 1023 1023 1023]\n",
            " [   0    0    0 ... 1023 1023 1023]\n",
            " [   0    0    0 ... 1023 1023 1023]\n",
            " ...\n",
            " [   0    0    0 ... 1023 1023 1023]\n",
            " [   0    0    0 ... 1023 1023 1023]\n",
            " [   0    0    0 ... 1023 1023 1023]], shape=(10, 8565), dtype=int32) tf.Tensor(\n",
            "[[   0    1   32 ...  991 1022 1023]\n",
            " [   0    1   32 ...  991 1022 1023]\n",
            " [   0    1   32 ...  991 1022 1023]\n",
            " ...\n",
            " [   0    1   32 ...  991 1022 1023]\n",
            " [   0    1   32 ...  991 1022 1023]\n",
            " [   0    1   32 ...  991 1022 1023]], shape=(10, 8565), dtype=int32)\n"
          ],
          "name": "stdout"
        },
        {
          "output_type": "error",
          "ename": "InvalidArgumentError",
          "evalue": "ignored",
          "traceback": [
            "\u001b[0;31m---------------------------------------------------------------------------\u001b[0m",
            "\u001b[0;31mInvalidArgumentError\u001b[0m                      Traceback (most recent call last)",
            "\u001b[0;32m<ipython-input-43-2f3fbf76fe83>\u001b[0m in \u001b[0;36m<module>\u001b[0;34m()\u001b[0m\n\u001b[1;32m     25\u001b[0m \u001b[0;32mfor\u001b[0m \u001b[0mepoch\u001b[0m \u001b[0;32min\u001b[0m \u001b[0mrange\u001b[0m\u001b[0;34m(\u001b[0m\u001b[0;36m10\u001b[0m\u001b[0;34m)\u001b[0m\u001b[0;34m:\u001b[0m\u001b[0;34m\u001b[0m\u001b[0;34m\u001b[0m\u001b[0m\n\u001b[1;32m     26\u001b[0m   \u001b[0mprint\u001b[0m\u001b[0;34m(\u001b[0m\u001b[0;34m\"Training epoch\"\u001b[0m\u001b[0;34m,\u001b[0m \u001b[0mepoch\u001b[0m\u001b[0;34m,\u001b[0m \u001b[0;34m\"...\"\u001b[0m\u001b[0;34m,\u001b[0m \u001b[0mend\u001b[0m\u001b[0;34m=\u001b[0m\u001b[0;34m\" \"\u001b[0m\u001b[0;34m)\u001b[0m\u001b[0;34m\u001b[0m\u001b[0;34m\u001b[0m\u001b[0m\n\u001b[0;32m---> 27\u001b[0;31m   \u001b[0mprint\u001b[0m\u001b[0;34m(\u001b[0m\u001b[0;34m\"loss :=\"\u001b[0m\u001b[0;34m,\u001b[0m \u001b[0mtrain_epoch\u001b[0m\u001b[0;34m(\u001b[0m\u001b[0mcifar10_train\u001b[0m\u001b[0;34m)\u001b[0m\u001b[0;34m)\u001b[0m\u001b[0;34m\u001b[0m\u001b[0;34m\u001b[0m\u001b[0m\n\u001b[0m\u001b[1;32m     28\u001b[0m \u001b[0;34m\u001b[0m\u001b[0m\n",
            "\u001b[0;32m<ipython-input-43-2f3fbf76fe83>\u001b[0m in \u001b[0;36mtrain_epoch\u001b[0;34m(dataset)\u001b[0m\n\u001b[1;32m     16\u001b[0m     \u001b[0;31m# print(images, labels)\u001b[0m\u001b[0;34m\u001b[0m\u001b[0;34m\u001b[0m\u001b[0;34m\u001b[0m\u001b[0m\n\u001b[1;32m     17\u001b[0m     \u001b[0;31m# loss_tr = compiled_update_step(images, labels)\u001b[0m\u001b[0;34m\u001b[0m\u001b[0;34m\u001b[0m\u001b[0;34m\u001b[0m\u001b[0m\n\u001b[0;32m---> 18\u001b[0;31m     \u001b[0mloss_tr\u001b[0m \u001b[0;34m=\u001b[0m \u001b[0mupdate_step\u001b[0m\u001b[0;34m(\u001b[0m\u001b[0mimages\u001b[0m\u001b[0;34m,\u001b[0m \u001b[0mlabels\u001b[0m\u001b[0;34m)\u001b[0m\u001b[0;34m\u001b[0m\u001b[0;34m\u001b[0m\u001b[0m\n\u001b[0m\u001b[1;32m     19\u001b[0m     \u001b[0mtotal_loss\u001b[0m \u001b[0;34m+=\u001b[0m \u001b[0mloss_tr\u001b[0m\u001b[0;34m.\u001b[0m\u001b[0msum\u001b[0m\u001b[0;34m(\u001b[0m\u001b[0;34m)\u001b[0m\u001b[0;34m\u001b[0m\u001b[0;34m\u001b[0m\u001b[0m\n\u001b[1;32m     20\u001b[0m     \u001b[0mnum_batches\u001b[0m \u001b[0;34m+=\u001b[0m \u001b[0;36m1\u001b[0m\u001b[0;34m\u001b[0m\u001b[0;34m\u001b[0m\u001b[0m\n",
            "\u001b[0;32m<ipython-input-38-9c807453fc59>\u001b[0m in \u001b[0;36mupdate_step\u001b[0;34m(inputs_tr, targets_tr)\u001b[0m\n\u001b[1;32m     22\u001b[0m   \u001b[0mprint\u001b[0m\u001b[0;34m(\u001b[0m\u001b[0minputs_tr\u001b[0m\u001b[0;34m.\u001b[0m\u001b[0msenders\u001b[0m\u001b[0;34m,\u001b[0m\u001b[0minputs_tr\u001b[0m\u001b[0;34m.\u001b[0m\u001b[0mreceivers\u001b[0m\u001b[0;34m)\u001b[0m\u001b[0;34m\u001b[0m\u001b[0;34m\u001b[0m\u001b[0m\n\u001b[1;32m     23\u001b[0m   \u001b[0;32mwith\u001b[0m \u001b[0mtf\u001b[0m\u001b[0;34m.\u001b[0m\u001b[0mGradientTape\u001b[0m\u001b[0;34m(\u001b[0m\u001b[0;34m)\u001b[0m \u001b[0;32mas\u001b[0m \u001b[0mtape\u001b[0m\u001b[0;34m:\u001b[0m\u001b[0;34m\u001b[0m\u001b[0;34m\u001b[0m\u001b[0m\n\u001b[0;32m---> 24\u001b[0;31m     \u001b[0moutputs_tr\u001b[0m \u001b[0;34m=\u001b[0m \u001b[0mmodel\u001b[0m\u001b[0;34m(\u001b[0m\u001b[0minputs_tr\u001b[0m\u001b[0;34m,\u001b[0m \u001b[0mnum_processing_steps_tr\u001b[0m\u001b[0;34m)\u001b[0m\u001b[0;34m\u001b[0m\u001b[0;34m\u001b[0m\u001b[0m\n\u001b[0m\u001b[1;32m     25\u001b[0m     \u001b[0;31m# Loss.\u001b[0m\u001b[0;34m\u001b[0m\u001b[0;34m\u001b[0m\u001b[0;34m\u001b[0m\u001b[0m\n\u001b[1;32m     26\u001b[0m     \u001b[0mloss_tr\u001b[0m \u001b[0;34m=\u001b[0m \u001b[0mcreate_loss\u001b[0m\u001b[0;34m(\u001b[0m\u001b[0mtargets_tr\u001b[0m\u001b[0;34m,\u001b[0m \u001b[0moutputs_tr\u001b[0m\u001b[0;34m)\u001b[0m\u001b[0;34m\u001b[0m\u001b[0;34m\u001b[0m\u001b[0m\n",
            "\u001b[0;32m/usr/local/lib/python3.6/dist-packages/sonnet/src/utils.py\u001b[0m in \u001b[0;36m_decorate_unbound_method\u001b[0;34m(self, *args, **kwargs)\u001b[0m\n\u001b[1;32m     87\u001b[0m       \u001b[0;32mdef\u001b[0m \u001b[0m_decorate_unbound_method\u001b[0m\u001b[0;34m(\u001b[0m\u001b[0mself\u001b[0m\u001b[0;34m,\u001b[0m \u001b[0;34m*\u001b[0m\u001b[0margs\u001b[0m\u001b[0;34m,\u001b[0m \u001b[0;34m**\u001b[0m\u001b[0mkwargs\u001b[0m\u001b[0;34m)\u001b[0m\u001b[0;34m:\u001b[0m\u001b[0;34m\u001b[0m\u001b[0;34m\u001b[0m\u001b[0m\n\u001b[1;32m     88\u001b[0m         \u001b[0mbound_method\u001b[0m \u001b[0;34m=\u001b[0m \u001b[0mf\u001b[0m\u001b[0;34m.\u001b[0m\u001b[0m__get__\u001b[0m\u001b[0;34m(\u001b[0m\u001b[0mself\u001b[0m\u001b[0;34m,\u001b[0m \u001b[0mself\u001b[0m\u001b[0;34m.\u001b[0m\u001b[0m__class__\u001b[0m\u001b[0;34m)\u001b[0m  \u001b[0;31m# pytype: disable=attribute-error\u001b[0m\u001b[0;34m\u001b[0m\u001b[0;34m\u001b[0m\u001b[0m\n\u001b[0;32m---> 89\u001b[0;31m         \u001b[0;32mreturn\u001b[0m \u001b[0mdecorator_fn\u001b[0m\u001b[0;34m(\u001b[0m\u001b[0mbound_method\u001b[0m\u001b[0;34m,\u001b[0m \u001b[0mself\u001b[0m\u001b[0;34m,\u001b[0m \u001b[0margs\u001b[0m\u001b[0;34m,\u001b[0m \u001b[0mkwargs\u001b[0m\u001b[0;34m)\u001b[0m\u001b[0;34m\u001b[0m\u001b[0;34m\u001b[0m\u001b[0m\n\u001b[0m\u001b[1;32m     90\u001b[0m \u001b[0;34m\u001b[0m\u001b[0m\n\u001b[1;32m     91\u001b[0m       \u001b[0;32mreturn\u001b[0m \u001b[0m_decorate_unbound_method\u001b[0m\u001b[0;34m\u001b[0m\u001b[0;34m\u001b[0m\u001b[0m\n",
            "\u001b[0;32m/usr/local/lib/python3.6/dist-packages/sonnet/src/base.py\u001b[0m in \u001b[0;36mwrap_with_name_scope\u001b[0;34m(method, instance, args, kwargs)\u001b[0m\n\u001b[1;32m    270\u001b[0m     \u001b[0;31m# snt.Module enters the module name scope for all methods. To disable this\u001b[0m\u001b[0;34m\u001b[0m\u001b[0;34m\u001b[0m\u001b[0;34m\u001b[0m\u001b[0m\n\u001b[1;32m    271\u001b[0m     \u001b[0;31m# for a particular method annotate it with `@snt.no_name_scope`.\u001b[0m\u001b[0;34m\u001b[0m\u001b[0;34m\u001b[0m\u001b[0;34m\u001b[0m\u001b[0m\n\u001b[0;32m--> 272\u001b[0;31m     \u001b[0;32mreturn\u001b[0m \u001b[0mmethod\u001b[0m\u001b[0;34m(\u001b[0m\u001b[0;34m*\u001b[0m\u001b[0margs\u001b[0m\u001b[0;34m,\u001b[0m \u001b[0;34m**\u001b[0m\u001b[0mkwargs\u001b[0m\u001b[0;34m)\u001b[0m\u001b[0;34m\u001b[0m\u001b[0;34m\u001b[0m\u001b[0m\n\u001b[0m\u001b[1;32m    273\u001b[0m \u001b[0;34m\u001b[0m\u001b[0m\n\u001b[1;32m    274\u001b[0m \u001b[0;34m\u001b[0m\u001b[0m\n",
            "\u001b[0;32m<ipython-input-37-0f72be12c8e9>\u001b[0m in \u001b[0;36m__call__\u001b[0;34m(self, input_op, num_processing_steps)\u001b[0m\n\u001b[1;32m     79\u001b[0m     \u001b[0;32mfor\u001b[0m \u001b[0m_\u001b[0m \u001b[0;32min\u001b[0m \u001b[0mrange\u001b[0m\u001b[0;34m(\u001b[0m\u001b[0mnum_processing_steps\u001b[0m\u001b[0;34m)\u001b[0m\u001b[0;34m:\u001b[0m\u001b[0;34m\u001b[0m\u001b[0;34m\u001b[0m\u001b[0m\n\u001b[1;32m     80\u001b[0m       \u001b[0mcore_input\u001b[0m \u001b[0;34m=\u001b[0m \u001b[0mutils_tf\u001b[0m\u001b[0;34m.\u001b[0m\u001b[0mconcat\u001b[0m\u001b[0;34m(\u001b[0m\u001b[0;34m[\u001b[0m\u001b[0mlatent0\u001b[0m\u001b[0;34m,\u001b[0m \u001b[0mlatent\u001b[0m\u001b[0;34m]\u001b[0m\u001b[0;34m,\u001b[0m \u001b[0maxis\u001b[0m\u001b[0;34m=\u001b[0m\u001b[0;36m1\u001b[0m\u001b[0;34m)\u001b[0m\u001b[0;34m\u001b[0m\u001b[0;34m\u001b[0m\u001b[0m\n\u001b[0;32m---> 81\u001b[0;31m       \u001b[0mlatent\u001b[0m \u001b[0;34m=\u001b[0m \u001b[0mself\u001b[0m\u001b[0;34m.\u001b[0m\u001b[0m_core\u001b[0m\u001b[0;34m(\u001b[0m\u001b[0mcore_input\u001b[0m\u001b[0;34m)\u001b[0m\u001b[0;34m\u001b[0m\u001b[0;34m\u001b[0m\u001b[0m\n\u001b[0m\u001b[1;32m     82\u001b[0m       \u001b[0mdecoded_op\u001b[0m \u001b[0;34m=\u001b[0m \u001b[0mself\u001b[0m\u001b[0;34m.\u001b[0m\u001b[0m_decoder\u001b[0m\u001b[0;34m(\u001b[0m\u001b[0mlatent\u001b[0m\u001b[0;34m)\u001b[0m\u001b[0;34m\u001b[0m\u001b[0;34m\u001b[0m\u001b[0m\n\u001b[1;32m     83\u001b[0m       \u001b[0moutput_ops\u001b[0m\u001b[0;34m.\u001b[0m\u001b[0mappend\u001b[0m\u001b[0;34m(\u001b[0m\u001b[0mself\u001b[0m\u001b[0;34m.\u001b[0m\u001b[0m_output_transform\u001b[0m\u001b[0;34m(\u001b[0m\u001b[0mdecoded_op\u001b[0m\u001b[0;34m)\u001b[0m\u001b[0;34m)\u001b[0m\u001b[0;34m\u001b[0m\u001b[0;34m\u001b[0m\u001b[0m\n",
            "\u001b[0;32m/usr/local/lib/python3.6/dist-packages/sonnet/src/utils.py\u001b[0m in \u001b[0;36m_decorate_unbound_method\u001b[0;34m(self, *args, **kwargs)\u001b[0m\n\u001b[1;32m     87\u001b[0m       \u001b[0;32mdef\u001b[0m \u001b[0m_decorate_unbound_method\u001b[0m\u001b[0;34m(\u001b[0m\u001b[0mself\u001b[0m\u001b[0;34m,\u001b[0m \u001b[0;34m*\u001b[0m\u001b[0margs\u001b[0m\u001b[0;34m,\u001b[0m \u001b[0;34m**\u001b[0m\u001b[0mkwargs\u001b[0m\u001b[0;34m)\u001b[0m\u001b[0;34m:\u001b[0m\u001b[0;34m\u001b[0m\u001b[0;34m\u001b[0m\u001b[0m\n\u001b[1;32m     88\u001b[0m         \u001b[0mbound_method\u001b[0m \u001b[0;34m=\u001b[0m \u001b[0mf\u001b[0m\u001b[0;34m.\u001b[0m\u001b[0m__get__\u001b[0m\u001b[0;34m(\u001b[0m\u001b[0mself\u001b[0m\u001b[0;34m,\u001b[0m \u001b[0mself\u001b[0m\u001b[0;34m.\u001b[0m\u001b[0m__class__\u001b[0m\u001b[0;34m)\u001b[0m  \u001b[0;31m# pytype: disable=attribute-error\u001b[0m\u001b[0;34m\u001b[0m\u001b[0;34m\u001b[0m\u001b[0m\n\u001b[0;32m---> 89\u001b[0;31m         \u001b[0;32mreturn\u001b[0m \u001b[0mdecorator_fn\u001b[0m\u001b[0;34m(\u001b[0m\u001b[0mbound_method\u001b[0m\u001b[0;34m,\u001b[0m \u001b[0mself\u001b[0m\u001b[0;34m,\u001b[0m \u001b[0margs\u001b[0m\u001b[0;34m,\u001b[0m \u001b[0mkwargs\u001b[0m\u001b[0;34m)\u001b[0m\u001b[0;34m\u001b[0m\u001b[0;34m\u001b[0m\u001b[0m\n\u001b[0m\u001b[1;32m     90\u001b[0m \u001b[0;34m\u001b[0m\u001b[0m\n\u001b[1;32m     91\u001b[0m       \u001b[0;32mreturn\u001b[0m \u001b[0m_decorate_unbound_method\u001b[0m\u001b[0;34m\u001b[0m\u001b[0;34m\u001b[0m\u001b[0m\n",
            "\u001b[0;32m/usr/local/lib/python3.6/dist-packages/sonnet/src/base.py\u001b[0m in \u001b[0;36mwrap_with_name_scope\u001b[0;34m(method, instance, args, kwargs)\u001b[0m\n\u001b[1;32m    270\u001b[0m     \u001b[0;31m# snt.Module enters the module name scope for all methods. To disable this\u001b[0m\u001b[0;34m\u001b[0m\u001b[0;34m\u001b[0m\u001b[0;34m\u001b[0m\u001b[0m\n\u001b[1;32m    271\u001b[0m     \u001b[0;31m# for a particular method annotate it with `@snt.no_name_scope`.\u001b[0m\u001b[0;34m\u001b[0m\u001b[0;34m\u001b[0m\u001b[0;34m\u001b[0m\u001b[0m\n\u001b[0;32m--> 272\u001b[0;31m     \u001b[0;32mreturn\u001b[0m \u001b[0mmethod\u001b[0m\u001b[0;34m(\u001b[0m\u001b[0;34m*\u001b[0m\u001b[0margs\u001b[0m\u001b[0;34m,\u001b[0m \u001b[0;34m**\u001b[0m\u001b[0mkwargs\u001b[0m\u001b[0;34m)\u001b[0m\u001b[0;34m\u001b[0m\u001b[0;34m\u001b[0m\u001b[0m\n\u001b[0m\u001b[1;32m    273\u001b[0m \u001b[0;34m\u001b[0m\u001b[0m\n\u001b[1;32m    274\u001b[0m \u001b[0;34m\u001b[0m\u001b[0m\n",
            "\u001b[0;32m<ipython-input-37-0f72be12c8e9>\u001b[0m in \u001b[0;36m__call__\u001b[0;34m(self, inputs)\u001b[0m\n\u001b[1;32m     38\u001b[0m \u001b[0;34m\u001b[0m\u001b[0m\n\u001b[1;32m     39\u001b[0m   \u001b[0;32mdef\u001b[0m \u001b[0m__call__\u001b[0m\u001b[0;34m(\u001b[0m\u001b[0mself\u001b[0m\u001b[0;34m,\u001b[0m \u001b[0minputs\u001b[0m\u001b[0;34m)\u001b[0m\u001b[0;34m:\u001b[0m\u001b[0;34m\u001b[0m\u001b[0;34m\u001b[0m\u001b[0m\n\u001b[0;32m---> 40\u001b[0;31m     \u001b[0;32mreturn\u001b[0m \u001b[0mself\u001b[0m\u001b[0;34m.\u001b[0m\u001b[0m_network\u001b[0m\u001b[0;34m(\u001b[0m\u001b[0minputs\u001b[0m\u001b[0;34m)\u001b[0m\u001b[0;34m\u001b[0m\u001b[0;34m\u001b[0m\u001b[0m\n\u001b[0m\u001b[1;32m     41\u001b[0m \u001b[0;34m\u001b[0m\u001b[0m\n\u001b[1;32m     42\u001b[0m \u001b[0;34m\u001b[0m\u001b[0m\n",
            "\u001b[0;32m/usr/local/lib/python3.6/dist-packages/sonnet/src/utils.py\u001b[0m in \u001b[0;36m_decorate_unbound_method\u001b[0;34m(self, *args, **kwargs)\u001b[0m\n\u001b[1;32m     87\u001b[0m       \u001b[0;32mdef\u001b[0m \u001b[0m_decorate_unbound_method\u001b[0m\u001b[0;34m(\u001b[0m\u001b[0mself\u001b[0m\u001b[0;34m,\u001b[0m \u001b[0;34m*\u001b[0m\u001b[0margs\u001b[0m\u001b[0;34m,\u001b[0m \u001b[0;34m**\u001b[0m\u001b[0mkwargs\u001b[0m\u001b[0;34m)\u001b[0m\u001b[0;34m:\u001b[0m\u001b[0;34m\u001b[0m\u001b[0;34m\u001b[0m\u001b[0m\n\u001b[1;32m     88\u001b[0m         \u001b[0mbound_method\u001b[0m \u001b[0;34m=\u001b[0m \u001b[0mf\u001b[0m\u001b[0;34m.\u001b[0m\u001b[0m__get__\u001b[0m\u001b[0;34m(\u001b[0m\u001b[0mself\u001b[0m\u001b[0;34m,\u001b[0m \u001b[0mself\u001b[0m\u001b[0;34m.\u001b[0m\u001b[0m__class__\u001b[0m\u001b[0;34m)\u001b[0m  \u001b[0;31m# pytype: disable=attribute-error\u001b[0m\u001b[0;34m\u001b[0m\u001b[0;34m\u001b[0m\u001b[0m\n\u001b[0;32m---> 89\u001b[0;31m         \u001b[0;32mreturn\u001b[0m \u001b[0mdecorator_fn\u001b[0m\u001b[0;34m(\u001b[0m\u001b[0mbound_method\u001b[0m\u001b[0;34m,\u001b[0m \u001b[0mself\u001b[0m\u001b[0;34m,\u001b[0m \u001b[0margs\u001b[0m\u001b[0;34m,\u001b[0m \u001b[0mkwargs\u001b[0m\u001b[0;34m)\u001b[0m\u001b[0;34m\u001b[0m\u001b[0;34m\u001b[0m\u001b[0m\n\u001b[0m\u001b[1;32m     90\u001b[0m \u001b[0;34m\u001b[0m\u001b[0m\n\u001b[1;32m     91\u001b[0m       \u001b[0;32mreturn\u001b[0m \u001b[0m_decorate_unbound_method\u001b[0m\u001b[0;34m\u001b[0m\u001b[0;34m\u001b[0m\u001b[0m\n",
            "\u001b[0;32m/usr/local/lib/python3.6/dist-packages/sonnet/src/base.py\u001b[0m in \u001b[0;36mwrap_with_name_scope\u001b[0;34m(method, instance, args, kwargs)\u001b[0m\n\u001b[1;32m    270\u001b[0m     \u001b[0;31m# snt.Module enters the module name scope for all methods. To disable this\u001b[0m\u001b[0;34m\u001b[0m\u001b[0;34m\u001b[0m\u001b[0;34m\u001b[0m\u001b[0m\n\u001b[1;32m    271\u001b[0m     \u001b[0;31m# for a particular method annotate it with `@snt.no_name_scope`.\u001b[0m\u001b[0;34m\u001b[0m\u001b[0;34m\u001b[0m\u001b[0;34m\u001b[0m\u001b[0m\n\u001b[0;32m--> 272\u001b[0;31m     \u001b[0;32mreturn\u001b[0m \u001b[0mmethod\u001b[0m\u001b[0;34m(\u001b[0m\u001b[0;34m*\u001b[0m\u001b[0margs\u001b[0m\u001b[0;34m,\u001b[0m \u001b[0;34m**\u001b[0m\u001b[0mkwargs\u001b[0m\u001b[0;34m)\u001b[0m\u001b[0;34m\u001b[0m\u001b[0;34m\u001b[0m\u001b[0m\n\u001b[0m\u001b[1;32m    273\u001b[0m \u001b[0;34m\u001b[0m\u001b[0m\n\u001b[1;32m    274\u001b[0m \u001b[0;34m\u001b[0m\u001b[0m\n",
            "\u001b[0;32m/usr/local/lib/python3.6/dist-packages/sonnet/src/utils.py\u001b[0m in \u001b[0;36m_decorate_unbound_method\u001b[0;34m(self, *args, **kwargs)\u001b[0m\n\u001b[1;32m     87\u001b[0m       \u001b[0;32mdef\u001b[0m \u001b[0m_decorate_unbound_method\u001b[0m\u001b[0;34m(\u001b[0m\u001b[0mself\u001b[0m\u001b[0;34m,\u001b[0m \u001b[0;34m*\u001b[0m\u001b[0margs\u001b[0m\u001b[0;34m,\u001b[0m \u001b[0;34m**\u001b[0m\u001b[0mkwargs\u001b[0m\u001b[0;34m)\u001b[0m\u001b[0;34m:\u001b[0m\u001b[0;34m\u001b[0m\u001b[0;34m\u001b[0m\u001b[0m\n\u001b[1;32m     88\u001b[0m         \u001b[0mbound_method\u001b[0m \u001b[0;34m=\u001b[0m \u001b[0mf\u001b[0m\u001b[0;34m.\u001b[0m\u001b[0m__get__\u001b[0m\u001b[0;34m(\u001b[0m\u001b[0mself\u001b[0m\u001b[0;34m,\u001b[0m \u001b[0mself\u001b[0m\u001b[0;34m.\u001b[0m\u001b[0m__class__\u001b[0m\u001b[0;34m)\u001b[0m  \u001b[0;31m# pytype: disable=attribute-error\u001b[0m\u001b[0;34m\u001b[0m\u001b[0;34m\u001b[0m\u001b[0m\n\u001b[0;32m---> 89\u001b[0;31m         \u001b[0;32mreturn\u001b[0m \u001b[0mdecorator_fn\u001b[0m\u001b[0;34m(\u001b[0m\u001b[0mbound_method\u001b[0m\u001b[0;34m,\u001b[0m \u001b[0mself\u001b[0m\u001b[0;34m,\u001b[0m \u001b[0margs\u001b[0m\u001b[0;34m,\u001b[0m \u001b[0mkwargs\u001b[0m\u001b[0;34m)\u001b[0m\u001b[0;34m\u001b[0m\u001b[0;34m\u001b[0m\u001b[0m\n\u001b[0m\u001b[1;32m     90\u001b[0m \u001b[0;34m\u001b[0m\u001b[0m\n\u001b[1;32m     91\u001b[0m       \u001b[0;32mreturn\u001b[0m \u001b[0m_decorate_unbound_method\u001b[0m\u001b[0;34m\u001b[0m\u001b[0;34m\u001b[0m\u001b[0m\n",
            "\u001b[0;32m/usr/local/lib/python3.6/dist-packages/sonnet/src/base.py\u001b[0m in \u001b[0;36mwrap_with_name_scope\u001b[0;34m(method, instance, args, kwargs)\u001b[0m\n\u001b[1;32m    270\u001b[0m     \u001b[0;31m# snt.Module enters the module name scope for all methods. To disable this\u001b[0m\u001b[0;34m\u001b[0m\u001b[0;34m\u001b[0m\u001b[0;34m\u001b[0m\u001b[0m\n\u001b[1;32m    271\u001b[0m     \u001b[0;31m# for a particular method annotate it with `@snt.no_name_scope`.\u001b[0m\u001b[0;34m\u001b[0m\u001b[0;34m\u001b[0m\u001b[0;34m\u001b[0m\u001b[0m\n\u001b[0;32m--> 272\u001b[0;31m     \u001b[0;32mreturn\u001b[0m \u001b[0mmethod\u001b[0m\u001b[0;34m(\u001b[0m\u001b[0;34m*\u001b[0m\u001b[0margs\u001b[0m\u001b[0;34m,\u001b[0m \u001b[0;34m**\u001b[0m\u001b[0mkwargs\u001b[0m\u001b[0;34m)\u001b[0m\u001b[0;34m\u001b[0m\u001b[0;34m\u001b[0m\u001b[0m\n\u001b[0m\u001b[1;32m    273\u001b[0m \u001b[0;34m\u001b[0m\u001b[0m\n\u001b[1;32m    274\u001b[0m \u001b[0;34m\u001b[0m\u001b[0m\n",
            "\u001b[0;32m/usr/local/lib/python3.6/dist-packages/graph_nets/_base.py\u001b[0m in \u001b[0;36m__call__\u001b[0;34m(self, *args, **kwargs)\u001b[0m\n\u001b[1;32m     76\u001b[0m \u001b[0;34m\u001b[0m\u001b[0m\n\u001b[1;32m     77\u001b[0m     \u001b[0;32mdef\u001b[0m \u001b[0m__call__\u001b[0m\u001b[0;34m(\u001b[0m\u001b[0mself\u001b[0m\u001b[0;34m,\u001b[0m \u001b[0;34m*\u001b[0m\u001b[0margs\u001b[0m\u001b[0;34m,\u001b[0m \u001b[0;34m**\u001b[0m\u001b[0mkwargs\u001b[0m\u001b[0;34m)\u001b[0m\u001b[0;34m:\u001b[0m\u001b[0;34m\u001b[0m\u001b[0;34m\u001b[0m\u001b[0m\n\u001b[0;32m---> 78\u001b[0;31m       \u001b[0;32mreturn\u001b[0m \u001b[0mself\u001b[0m\u001b[0;34m.\u001b[0m\u001b[0m_build\u001b[0m\u001b[0;34m(\u001b[0m\u001b[0;34m*\u001b[0m\u001b[0margs\u001b[0m\u001b[0;34m,\u001b[0m \u001b[0;34m**\u001b[0m\u001b[0mkwargs\u001b[0m\u001b[0;34m)\u001b[0m\u001b[0;34m\u001b[0m\u001b[0;34m\u001b[0m\u001b[0m\n\u001b[0m\u001b[1;32m     79\u001b[0m \u001b[0;34m\u001b[0m\u001b[0m\n\u001b[1;32m     80\u001b[0m     \u001b[0;34m@\u001b[0m\u001b[0mabc\u001b[0m\u001b[0;34m.\u001b[0m\u001b[0mabstractmethod\u001b[0m\u001b[0;34m\u001b[0m\u001b[0;34m\u001b[0m\u001b[0m\n",
            "\u001b[0;32m/usr/local/lib/python3.6/dist-packages/sonnet/src/utils.py\u001b[0m in \u001b[0;36m_decorate_unbound_method\u001b[0;34m(self, *args, **kwargs)\u001b[0m\n\u001b[1;32m     87\u001b[0m       \u001b[0;32mdef\u001b[0m \u001b[0m_decorate_unbound_method\u001b[0m\u001b[0;34m(\u001b[0m\u001b[0mself\u001b[0m\u001b[0;34m,\u001b[0m \u001b[0;34m*\u001b[0m\u001b[0margs\u001b[0m\u001b[0;34m,\u001b[0m \u001b[0;34m**\u001b[0m\u001b[0mkwargs\u001b[0m\u001b[0;34m)\u001b[0m\u001b[0;34m:\u001b[0m\u001b[0;34m\u001b[0m\u001b[0;34m\u001b[0m\u001b[0m\n\u001b[1;32m     88\u001b[0m         \u001b[0mbound_method\u001b[0m \u001b[0;34m=\u001b[0m \u001b[0mf\u001b[0m\u001b[0;34m.\u001b[0m\u001b[0m__get__\u001b[0m\u001b[0;34m(\u001b[0m\u001b[0mself\u001b[0m\u001b[0;34m,\u001b[0m \u001b[0mself\u001b[0m\u001b[0;34m.\u001b[0m\u001b[0m__class__\u001b[0m\u001b[0;34m)\u001b[0m  \u001b[0;31m# pytype: disable=attribute-error\u001b[0m\u001b[0;34m\u001b[0m\u001b[0;34m\u001b[0m\u001b[0m\n\u001b[0;32m---> 89\u001b[0;31m         \u001b[0;32mreturn\u001b[0m \u001b[0mdecorator_fn\u001b[0m\u001b[0;34m(\u001b[0m\u001b[0mbound_method\u001b[0m\u001b[0;34m,\u001b[0m \u001b[0mself\u001b[0m\u001b[0;34m,\u001b[0m \u001b[0margs\u001b[0m\u001b[0;34m,\u001b[0m \u001b[0mkwargs\u001b[0m\u001b[0;34m)\u001b[0m\u001b[0;34m\u001b[0m\u001b[0;34m\u001b[0m\u001b[0m\n\u001b[0m\u001b[1;32m     90\u001b[0m \u001b[0;34m\u001b[0m\u001b[0m\n\u001b[1;32m     91\u001b[0m       \u001b[0;32mreturn\u001b[0m \u001b[0m_decorate_unbound_method\u001b[0m\u001b[0;34m\u001b[0m\u001b[0;34m\u001b[0m\u001b[0m\n",
            "\u001b[0;32m/usr/local/lib/python3.6/dist-packages/sonnet/src/base.py\u001b[0m in \u001b[0;36mwrap_with_name_scope\u001b[0;34m(method, instance, args, kwargs)\u001b[0m\n\u001b[1;32m    270\u001b[0m     \u001b[0;31m# snt.Module enters the module name scope for all methods. To disable this\u001b[0m\u001b[0;34m\u001b[0m\u001b[0;34m\u001b[0m\u001b[0;34m\u001b[0m\u001b[0m\n\u001b[1;32m    271\u001b[0m     \u001b[0;31m# for a particular method annotate it with `@snt.no_name_scope`.\u001b[0m\u001b[0;34m\u001b[0m\u001b[0;34m\u001b[0m\u001b[0;34m\u001b[0m\u001b[0m\n\u001b[0;32m--> 272\u001b[0;31m     \u001b[0;32mreturn\u001b[0m \u001b[0mmethod\u001b[0m\u001b[0;34m(\u001b[0m\u001b[0;34m*\u001b[0m\u001b[0margs\u001b[0m\u001b[0;34m,\u001b[0m \u001b[0;34m**\u001b[0m\u001b[0mkwargs\u001b[0m\u001b[0;34m)\u001b[0m\u001b[0;34m\u001b[0m\u001b[0;34m\u001b[0m\u001b[0m\n\u001b[0m\u001b[1;32m    273\u001b[0m \u001b[0;34m\u001b[0m\u001b[0m\n\u001b[1;32m    274\u001b[0m \u001b[0;34m\u001b[0m\u001b[0m\n",
            "\u001b[0;32m/usr/local/lib/python3.6/dist-packages/graph_nets/modules.py\u001b[0m in \u001b[0;36m_build\u001b[0;34m(self, graph)\u001b[0m\n\u001b[1;32m    299\u001b[0m       \u001b[0mAn\u001b[0m \u001b[0moutput\u001b[0m\u001b[0;31m \u001b[0m\u001b[0;31m`\u001b[0m\u001b[0mgraphs\u001b[0m\u001b[0;34m.\u001b[0m\u001b[0mGraphsTuple\u001b[0m\u001b[0;31m`\u001b[0m \u001b[0;32mwith\u001b[0m \u001b[0mupdated\u001b[0m \u001b[0medges\u001b[0m\u001b[0;34m,\u001b[0m \u001b[0mnodes\u001b[0m \u001b[0;32mand\u001b[0m \u001b[0mglobals\u001b[0m\u001b[0;34m.\u001b[0m\u001b[0;34m\u001b[0m\u001b[0;34m\u001b[0m\u001b[0m\n\u001b[1;32m    300\u001b[0m     \"\"\"\n\u001b[0;32m--> 301\u001b[0;31m     \u001b[0;32mreturn\u001b[0m \u001b[0mself\u001b[0m\u001b[0;34m.\u001b[0m\u001b[0m_global_block\u001b[0m\u001b[0;34m(\u001b[0m\u001b[0mself\u001b[0m\u001b[0;34m.\u001b[0m\u001b[0m_node_block\u001b[0m\u001b[0;34m(\u001b[0m\u001b[0mself\u001b[0m\u001b[0;34m.\u001b[0m\u001b[0m_edge_block\u001b[0m\u001b[0;34m(\u001b[0m\u001b[0mgraph\u001b[0m\u001b[0;34m)\u001b[0m\u001b[0;34m)\u001b[0m\u001b[0;34m)\u001b[0m\u001b[0;34m\u001b[0m\u001b[0;34m\u001b[0m\u001b[0m\n\u001b[0m\u001b[1;32m    302\u001b[0m \u001b[0;34m\u001b[0m\u001b[0m\n\u001b[1;32m    303\u001b[0m \u001b[0;34m\u001b[0m\u001b[0m\n",
            "\u001b[0;32m/usr/local/lib/python3.6/dist-packages/sonnet/src/utils.py\u001b[0m in \u001b[0;36m_decorate_unbound_method\u001b[0;34m(self, *args, **kwargs)\u001b[0m\n\u001b[1;32m     87\u001b[0m       \u001b[0;32mdef\u001b[0m \u001b[0m_decorate_unbound_method\u001b[0m\u001b[0;34m(\u001b[0m\u001b[0mself\u001b[0m\u001b[0;34m,\u001b[0m \u001b[0;34m*\u001b[0m\u001b[0margs\u001b[0m\u001b[0;34m,\u001b[0m \u001b[0;34m**\u001b[0m\u001b[0mkwargs\u001b[0m\u001b[0;34m)\u001b[0m\u001b[0;34m:\u001b[0m\u001b[0;34m\u001b[0m\u001b[0;34m\u001b[0m\u001b[0m\n\u001b[1;32m     88\u001b[0m         \u001b[0mbound_method\u001b[0m \u001b[0;34m=\u001b[0m \u001b[0mf\u001b[0m\u001b[0;34m.\u001b[0m\u001b[0m__get__\u001b[0m\u001b[0;34m(\u001b[0m\u001b[0mself\u001b[0m\u001b[0;34m,\u001b[0m \u001b[0mself\u001b[0m\u001b[0;34m.\u001b[0m\u001b[0m__class__\u001b[0m\u001b[0;34m)\u001b[0m  \u001b[0;31m# pytype: disable=attribute-error\u001b[0m\u001b[0;34m\u001b[0m\u001b[0;34m\u001b[0m\u001b[0m\n\u001b[0;32m---> 89\u001b[0;31m         \u001b[0;32mreturn\u001b[0m \u001b[0mdecorator_fn\u001b[0m\u001b[0;34m(\u001b[0m\u001b[0mbound_method\u001b[0m\u001b[0;34m,\u001b[0m \u001b[0mself\u001b[0m\u001b[0;34m,\u001b[0m \u001b[0margs\u001b[0m\u001b[0;34m,\u001b[0m \u001b[0mkwargs\u001b[0m\u001b[0;34m)\u001b[0m\u001b[0;34m\u001b[0m\u001b[0;34m\u001b[0m\u001b[0m\n\u001b[0m\u001b[1;32m     90\u001b[0m \u001b[0;34m\u001b[0m\u001b[0m\n\u001b[1;32m     91\u001b[0m       \u001b[0;32mreturn\u001b[0m \u001b[0m_decorate_unbound_method\u001b[0m\u001b[0;34m\u001b[0m\u001b[0;34m\u001b[0m\u001b[0m\n",
            "\u001b[0;32m/usr/local/lib/python3.6/dist-packages/sonnet/src/base.py\u001b[0m in \u001b[0;36mwrap_with_name_scope\u001b[0;34m(method, instance, args, kwargs)\u001b[0m\n\u001b[1;32m    270\u001b[0m     \u001b[0;31m# snt.Module enters the module name scope for all methods. To disable this\u001b[0m\u001b[0;34m\u001b[0m\u001b[0;34m\u001b[0m\u001b[0;34m\u001b[0m\u001b[0m\n\u001b[1;32m    271\u001b[0m     \u001b[0;31m# for a particular method annotate it with `@snt.no_name_scope`.\u001b[0m\u001b[0;34m\u001b[0m\u001b[0;34m\u001b[0m\u001b[0;34m\u001b[0m\u001b[0m\n\u001b[0;32m--> 272\u001b[0;31m     \u001b[0;32mreturn\u001b[0m \u001b[0mmethod\u001b[0m\u001b[0;34m(\u001b[0m\u001b[0;34m*\u001b[0m\u001b[0margs\u001b[0m\u001b[0;34m,\u001b[0m \u001b[0;34m**\u001b[0m\u001b[0mkwargs\u001b[0m\u001b[0;34m)\u001b[0m\u001b[0;34m\u001b[0m\u001b[0;34m\u001b[0m\u001b[0m\n\u001b[0m\u001b[1;32m    273\u001b[0m \u001b[0;34m\u001b[0m\u001b[0m\n\u001b[1;32m    274\u001b[0m \u001b[0;34m\u001b[0m\u001b[0m\n",
            "\u001b[0;32m/usr/local/lib/python3.6/dist-packages/sonnet/src/utils.py\u001b[0m in \u001b[0;36m_decorate_unbound_method\u001b[0;34m(self, *args, **kwargs)\u001b[0m\n\u001b[1;32m     87\u001b[0m       \u001b[0;32mdef\u001b[0m \u001b[0m_decorate_unbound_method\u001b[0m\u001b[0;34m(\u001b[0m\u001b[0mself\u001b[0m\u001b[0;34m,\u001b[0m \u001b[0;34m*\u001b[0m\u001b[0margs\u001b[0m\u001b[0;34m,\u001b[0m \u001b[0;34m**\u001b[0m\u001b[0mkwargs\u001b[0m\u001b[0;34m)\u001b[0m\u001b[0;34m:\u001b[0m\u001b[0;34m\u001b[0m\u001b[0;34m\u001b[0m\u001b[0m\n\u001b[1;32m     88\u001b[0m         \u001b[0mbound_method\u001b[0m \u001b[0;34m=\u001b[0m \u001b[0mf\u001b[0m\u001b[0;34m.\u001b[0m\u001b[0m__get__\u001b[0m\u001b[0;34m(\u001b[0m\u001b[0mself\u001b[0m\u001b[0;34m,\u001b[0m \u001b[0mself\u001b[0m\u001b[0;34m.\u001b[0m\u001b[0m__class__\u001b[0m\u001b[0;34m)\u001b[0m  \u001b[0;31m# pytype: disable=attribute-error\u001b[0m\u001b[0;34m\u001b[0m\u001b[0;34m\u001b[0m\u001b[0m\n\u001b[0;32m---> 89\u001b[0;31m         \u001b[0;32mreturn\u001b[0m \u001b[0mdecorator_fn\u001b[0m\u001b[0;34m(\u001b[0m\u001b[0mbound_method\u001b[0m\u001b[0;34m,\u001b[0m \u001b[0mself\u001b[0m\u001b[0;34m,\u001b[0m \u001b[0margs\u001b[0m\u001b[0;34m,\u001b[0m \u001b[0mkwargs\u001b[0m\u001b[0;34m)\u001b[0m\u001b[0;34m\u001b[0m\u001b[0;34m\u001b[0m\u001b[0m\n\u001b[0m\u001b[1;32m     90\u001b[0m \u001b[0;34m\u001b[0m\u001b[0m\n\u001b[1;32m     91\u001b[0m       \u001b[0;32mreturn\u001b[0m \u001b[0m_decorate_unbound_method\u001b[0m\u001b[0;34m\u001b[0m\u001b[0;34m\u001b[0m\u001b[0m\n",
            "\u001b[0;32m/usr/local/lib/python3.6/dist-packages/sonnet/src/base.py\u001b[0m in \u001b[0;36mwrap_with_name_scope\u001b[0;34m(method, instance, args, kwargs)\u001b[0m\n\u001b[1;32m    270\u001b[0m     \u001b[0;31m# snt.Module enters the module name scope for all methods. To disable this\u001b[0m\u001b[0;34m\u001b[0m\u001b[0;34m\u001b[0m\u001b[0;34m\u001b[0m\u001b[0m\n\u001b[1;32m    271\u001b[0m     \u001b[0;31m# for a particular method annotate it with `@snt.no_name_scope`.\u001b[0m\u001b[0;34m\u001b[0m\u001b[0;34m\u001b[0m\u001b[0;34m\u001b[0m\u001b[0m\n\u001b[0;32m--> 272\u001b[0;31m     \u001b[0;32mreturn\u001b[0m \u001b[0mmethod\u001b[0m\u001b[0;34m(\u001b[0m\u001b[0;34m*\u001b[0m\u001b[0margs\u001b[0m\u001b[0;34m,\u001b[0m \u001b[0;34m**\u001b[0m\u001b[0mkwargs\u001b[0m\u001b[0;34m)\u001b[0m\u001b[0;34m\u001b[0m\u001b[0;34m\u001b[0m\u001b[0m\n\u001b[0m\u001b[1;32m    273\u001b[0m \u001b[0;34m\u001b[0m\u001b[0m\n\u001b[1;32m    274\u001b[0m \u001b[0;34m\u001b[0m\u001b[0m\n",
            "\u001b[0;32m/usr/local/lib/python3.6/dist-packages/graph_nets/_base.py\u001b[0m in \u001b[0;36m__call__\u001b[0;34m(self, *args, **kwargs)\u001b[0m\n\u001b[1;32m     76\u001b[0m \u001b[0;34m\u001b[0m\u001b[0m\n\u001b[1;32m     77\u001b[0m     \u001b[0;32mdef\u001b[0m \u001b[0m__call__\u001b[0m\u001b[0;34m(\u001b[0m\u001b[0mself\u001b[0m\u001b[0;34m,\u001b[0m \u001b[0;34m*\u001b[0m\u001b[0margs\u001b[0m\u001b[0;34m,\u001b[0m \u001b[0;34m**\u001b[0m\u001b[0mkwargs\u001b[0m\u001b[0;34m)\u001b[0m\u001b[0;34m:\u001b[0m\u001b[0;34m\u001b[0m\u001b[0;34m\u001b[0m\u001b[0m\n\u001b[0;32m---> 78\u001b[0;31m       \u001b[0;32mreturn\u001b[0m \u001b[0mself\u001b[0m\u001b[0;34m.\u001b[0m\u001b[0m_build\u001b[0m\u001b[0;34m(\u001b[0m\u001b[0;34m*\u001b[0m\u001b[0margs\u001b[0m\u001b[0;34m,\u001b[0m \u001b[0;34m**\u001b[0m\u001b[0mkwargs\u001b[0m\u001b[0;34m)\u001b[0m\u001b[0;34m\u001b[0m\u001b[0;34m\u001b[0m\u001b[0m\n\u001b[0m\u001b[1;32m     79\u001b[0m \u001b[0;34m\u001b[0m\u001b[0m\n\u001b[1;32m     80\u001b[0m     \u001b[0;34m@\u001b[0m\u001b[0mabc\u001b[0m\u001b[0;34m.\u001b[0m\u001b[0mabstractmethod\u001b[0m\u001b[0;34m\u001b[0m\u001b[0;34m\u001b[0m\u001b[0m\n",
            "\u001b[0;32m/usr/local/lib/python3.6/dist-packages/sonnet/src/utils.py\u001b[0m in \u001b[0;36m_decorate_unbound_method\u001b[0;34m(self, *args, **kwargs)\u001b[0m\n\u001b[1;32m     87\u001b[0m       \u001b[0;32mdef\u001b[0m \u001b[0m_decorate_unbound_method\u001b[0m\u001b[0;34m(\u001b[0m\u001b[0mself\u001b[0m\u001b[0;34m,\u001b[0m \u001b[0;34m*\u001b[0m\u001b[0margs\u001b[0m\u001b[0;34m,\u001b[0m \u001b[0;34m**\u001b[0m\u001b[0mkwargs\u001b[0m\u001b[0;34m)\u001b[0m\u001b[0;34m:\u001b[0m\u001b[0;34m\u001b[0m\u001b[0;34m\u001b[0m\u001b[0m\n\u001b[1;32m     88\u001b[0m         \u001b[0mbound_method\u001b[0m \u001b[0;34m=\u001b[0m \u001b[0mf\u001b[0m\u001b[0;34m.\u001b[0m\u001b[0m__get__\u001b[0m\u001b[0;34m(\u001b[0m\u001b[0mself\u001b[0m\u001b[0;34m,\u001b[0m \u001b[0mself\u001b[0m\u001b[0;34m.\u001b[0m\u001b[0m__class__\u001b[0m\u001b[0;34m)\u001b[0m  \u001b[0;31m# pytype: disable=attribute-error\u001b[0m\u001b[0;34m\u001b[0m\u001b[0;34m\u001b[0m\u001b[0m\n\u001b[0;32m---> 89\u001b[0;31m         \u001b[0;32mreturn\u001b[0m \u001b[0mdecorator_fn\u001b[0m\u001b[0;34m(\u001b[0m\u001b[0mbound_method\u001b[0m\u001b[0;34m,\u001b[0m \u001b[0mself\u001b[0m\u001b[0;34m,\u001b[0m \u001b[0margs\u001b[0m\u001b[0;34m,\u001b[0m \u001b[0mkwargs\u001b[0m\u001b[0;34m)\u001b[0m\u001b[0;34m\u001b[0m\u001b[0;34m\u001b[0m\u001b[0m\n\u001b[0m\u001b[1;32m     90\u001b[0m \u001b[0;34m\u001b[0m\u001b[0m\n\u001b[1;32m     91\u001b[0m       \u001b[0;32mreturn\u001b[0m \u001b[0m_decorate_unbound_method\u001b[0m\u001b[0;34m\u001b[0m\u001b[0;34m\u001b[0m\u001b[0m\n",
            "\u001b[0;32m/usr/local/lib/python3.6/dist-packages/sonnet/src/base.py\u001b[0m in \u001b[0;36mwrap_with_name_scope\u001b[0;34m(method, instance, args, kwargs)\u001b[0m\n\u001b[1;32m    270\u001b[0m     \u001b[0;31m# snt.Module enters the module name scope for all methods. To disable this\u001b[0m\u001b[0;34m\u001b[0m\u001b[0;34m\u001b[0m\u001b[0;34m\u001b[0m\u001b[0m\n\u001b[1;32m    271\u001b[0m     \u001b[0;31m# for a particular method annotate it with `@snt.no_name_scope`.\u001b[0m\u001b[0;34m\u001b[0m\u001b[0;34m\u001b[0m\u001b[0;34m\u001b[0m\u001b[0m\n\u001b[0;32m--> 272\u001b[0;31m     \u001b[0;32mreturn\u001b[0m \u001b[0mmethod\u001b[0m\u001b[0;34m(\u001b[0m\u001b[0;34m*\u001b[0m\u001b[0margs\u001b[0m\u001b[0;34m,\u001b[0m \u001b[0;34m**\u001b[0m\u001b[0mkwargs\u001b[0m\u001b[0;34m)\u001b[0m\u001b[0;34m\u001b[0m\u001b[0;34m\u001b[0m\u001b[0m\n\u001b[0m\u001b[1;32m    273\u001b[0m \u001b[0;34m\u001b[0m\u001b[0m\n\u001b[1;32m    274\u001b[0m \u001b[0;34m\u001b[0m\u001b[0m\n",
            "\u001b[0;32m/usr/local/lib/python3.6/dist-packages/graph_nets/blocks.py\u001b[0m in \u001b[0;36m_build\u001b[0;34m(self, graph)\u001b[0m\n\u001b[1;32m    448\u001b[0m \u001b[0;34m\u001b[0m\u001b[0m\n\u001b[1;32m    449\u001b[0m     \u001b[0;32mif\u001b[0m \u001b[0mself\u001b[0m\u001b[0;34m.\u001b[0m\u001b[0m_use_receiver_nodes\u001b[0m\u001b[0;34m:\u001b[0m\u001b[0;34m\u001b[0m\u001b[0;34m\u001b[0m\u001b[0m\n\u001b[0;32m--> 450\u001b[0;31m       \u001b[0medges_to_collect\u001b[0m\u001b[0;34m.\u001b[0m\u001b[0mappend\u001b[0m\u001b[0;34m(\u001b[0m\u001b[0mbroadcast_receiver_nodes_to_edges\u001b[0m\u001b[0;34m(\u001b[0m\u001b[0mgraph\u001b[0m\u001b[0;34m)\u001b[0m\u001b[0;34m)\u001b[0m\u001b[0;34m\u001b[0m\u001b[0;34m\u001b[0m\u001b[0m\n\u001b[0m\u001b[1;32m    451\u001b[0m \u001b[0;34m\u001b[0m\u001b[0m\n\u001b[1;32m    452\u001b[0m     \u001b[0;32mif\u001b[0m \u001b[0mself\u001b[0m\u001b[0;34m.\u001b[0m\u001b[0m_use_sender_nodes\u001b[0m\u001b[0;34m:\u001b[0m\u001b[0;34m\u001b[0m\u001b[0;34m\u001b[0m\u001b[0m\n",
            "\u001b[0;32m/usr/local/lib/python3.6/dist-packages/graph_nets/blocks.py\u001b[0m in \u001b[0;36mbroadcast_receiver_nodes_to_edges\u001b[0;34m(graph, name)\u001b[0m\n\u001b[1;32m    155\u001b[0m   \u001b[0m_validate_broadcasted_graph\u001b[0m\u001b[0;34m(\u001b[0m\u001b[0mgraph\u001b[0m\u001b[0;34m,\u001b[0m \u001b[0mNODES\u001b[0m\u001b[0;34m,\u001b[0m \u001b[0mRECEIVERS\u001b[0m\u001b[0;34m)\u001b[0m\u001b[0;34m\u001b[0m\u001b[0;34m\u001b[0m\u001b[0m\n\u001b[1;32m    156\u001b[0m   \u001b[0;32mwith\u001b[0m \u001b[0mtf\u001b[0m\u001b[0;34m.\u001b[0m\u001b[0mname_scope\u001b[0m\u001b[0;34m(\u001b[0m\u001b[0mname\u001b[0m\u001b[0;34m)\u001b[0m\u001b[0;34m:\u001b[0m\u001b[0;34m\u001b[0m\u001b[0;34m\u001b[0m\u001b[0m\n\u001b[0;32m--> 157\u001b[0;31m     \u001b[0;32mreturn\u001b[0m \u001b[0mtf\u001b[0m\u001b[0;34m.\u001b[0m\u001b[0mgather\u001b[0m\u001b[0;34m(\u001b[0m\u001b[0mgraph\u001b[0m\u001b[0;34m.\u001b[0m\u001b[0mnodes\u001b[0m\u001b[0;34m,\u001b[0m \u001b[0mgraph\u001b[0m\u001b[0;34m.\u001b[0m\u001b[0mreceivers\u001b[0m\u001b[0;34m)\u001b[0m\u001b[0;34m\u001b[0m\u001b[0;34m\u001b[0m\u001b[0m\n\u001b[0m\u001b[1;32m    158\u001b[0m \u001b[0;34m\u001b[0m\u001b[0m\n\u001b[1;32m    159\u001b[0m \u001b[0;34m\u001b[0m\u001b[0m\n",
            "\u001b[0;32m/usr/local/lib/python3.6/dist-packages/tensorflow/python/util/dispatch.py\u001b[0m in \u001b[0;36mwrapper\u001b[0;34m(*args, **kwargs)\u001b[0m\n\u001b[1;32m    178\u001b[0m     \u001b[0;34m\"\"\"Call target, and fall back on dispatchers if there is a TypeError.\"\"\"\u001b[0m\u001b[0;34m\u001b[0m\u001b[0;34m\u001b[0m\u001b[0m\n\u001b[1;32m    179\u001b[0m     \u001b[0;32mtry\u001b[0m\u001b[0;34m:\u001b[0m\u001b[0;34m\u001b[0m\u001b[0;34m\u001b[0m\u001b[0m\n\u001b[0;32m--> 180\u001b[0;31m       \u001b[0;32mreturn\u001b[0m \u001b[0mtarget\u001b[0m\u001b[0;34m(\u001b[0m\u001b[0;34m*\u001b[0m\u001b[0margs\u001b[0m\u001b[0;34m,\u001b[0m \u001b[0;34m**\u001b[0m\u001b[0mkwargs\u001b[0m\u001b[0;34m)\u001b[0m\u001b[0;34m\u001b[0m\u001b[0;34m\u001b[0m\u001b[0m\n\u001b[0m\u001b[1;32m    181\u001b[0m     \u001b[0;32mexcept\u001b[0m \u001b[0;34m(\u001b[0m\u001b[0mTypeError\u001b[0m\u001b[0;34m,\u001b[0m \u001b[0mValueError\u001b[0m\u001b[0;34m)\u001b[0m\u001b[0;34m:\u001b[0m\u001b[0;34m\u001b[0m\u001b[0;34m\u001b[0m\u001b[0m\n\u001b[1;32m    182\u001b[0m       \u001b[0;31m# Note: convert_to_eager_tensor currently raises a ValueError, not a\u001b[0m\u001b[0;34m\u001b[0m\u001b[0;34m\u001b[0m\u001b[0;34m\u001b[0m\u001b[0m\n",
            "\u001b[0;32m/usr/local/lib/python3.6/dist-packages/tensorflow/python/ops/array_ops.py\u001b[0m in \u001b[0;36mgather_v2\u001b[0;34m(params, indices, validate_indices, axis, batch_dims, name)\u001b[0m\n\u001b[1;32m   4539\u001b[0m       \u001b[0mname\u001b[0m\u001b[0;34m=\u001b[0m\u001b[0mname\u001b[0m\u001b[0;34m,\u001b[0m\u001b[0;34m\u001b[0m\u001b[0;34m\u001b[0m\u001b[0m\n\u001b[1;32m   4540\u001b[0m       \u001b[0maxis\u001b[0m\u001b[0;34m=\u001b[0m\u001b[0maxis\u001b[0m\u001b[0;34m,\u001b[0m\u001b[0;34m\u001b[0m\u001b[0;34m\u001b[0m\u001b[0m\n\u001b[0;32m-> 4541\u001b[0;31m       batch_dims=batch_dims)\n\u001b[0m\u001b[1;32m   4542\u001b[0m \u001b[0;34m\u001b[0m\u001b[0m\n\u001b[1;32m   4543\u001b[0m \u001b[0;34m\u001b[0m\u001b[0m\n",
            "\u001b[0;32m/usr/local/lib/python3.6/dist-packages/tensorflow/python/util/dispatch.py\u001b[0m in \u001b[0;36mwrapper\u001b[0;34m(*args, **kwargs)\u001b[0m\n\u001b[1;32m    178\u001b[0m     \u001b[0;34m\"\"\"Call target, and fall back on dispatchers if there is a TypeError.\"\"\"\u001b[0m\u001b[0;34m\u001b[0m\u001b[0;34m\u001b[0m\u001b[0m\n\u001b[1;32m    179\u001b[0m     \u001b[0;32mtry\u001b[0m\u001b[0;34m:\u001b[0m\u001b[0;34m\u001b[0m\u001b[0;34m\u001b[0m\u001b[0m\n\u001b[0;32m--> 180\u001b[0;31m       \u001b[0;32mreturn\u001b[0m \u001b[0mtarget\u001b[0m\u001b[0;34m(\u001b[0m\u001b[0;34m*\u001b[0m\u001b[0margs\u001b[0m\u001b[0;34m,\u001b[0m \u001b[0;34m**\u001b[0m\u001b[0mkwargs\u001b[0m\u001b[0;34m)\u001b[0m\u001b[0;34m\u001b[0m\u001b[0;34m\u001b[0m\u001b[0m\n\u001b[0m\u001b[1;32m    181\u001b[0m     \u001b[0;32mexcept\u001b[0m \u001b[0;34m(\u001b[0m\u001b[0mTypeError\u001b[0m\u001b[0;34m,\u001b[0m \u001b[0mValueError\u001b[0m\u001b[0;34m)\u001b[0m\u001b[0;34m:\u001b[0m\u001b[0;34m\u001b[0m\u001b[0;34m\u001b[0m\u001b[0m\n\u001b[1;32m    182\u001b[0m       \u001b[0;31m# Note: convert_to_eager_tensor currently raises a ValueError, not a\u001b[0m\u001b[0;34m\u001b[0m\u001b[0;34m\u001b[0m\u001b[0;34m\u001b[0m\u001b[0m\n",
            "\u001b[0;32m/usr/local/lib/python3.6/dist-packages/tensorflow/python/ops/array_ops.py\u001b[0m in \u001b[0;36mgather\u001b[0;34m(***failed resolving arguments***)\u001b[0m\n\u001b[1;32m   4522\u001b[0m     \u001b[0;32mreturn\u001b[0m \u001b[0mparams\u001b[0m\u001b[0;34m.\u001b[0m\u001b[0msparse_read\u001b[0m\u001b[0;34m(\u001b[0m\u001b[0mindices\u001b[0m\u001b[0;34m,\u001b[0m \u001b[0mname\u001b[0m\u001b[0;34m=\u001b[0m\u001b[0mname\u001b[0m\u001b[0;34m)\u001b[0m\u001b[0;34m\u001b[0m\u001b[0;34m\u001b[0m\u001b[0m\n\u001b[1;32m   4523\u001b[0m   \u001b[0;32mexcept\u001b[0m \u001b[0mAttributeError\u001b[0m\u001b[0;34m:\u001b[0m\u001b[0;34m\u001b[0m\u001b[0;34m\u001b[0m\u001b[0m\n\u001b[0;32m-> 4524\u001b[0;31m     \u001b[0;32mreturn\u001b[0m \u001b[0mgen_array_ops\u001b[0m\u001b[0;34m.\u001b[0m\u001b[0mgather_v2\u001b[0m\u001b[0;34m(\u001b[0m\u001b[0mparams\u001b[0m\u001b[0;34m,\u001b[0m \u001b[0mindices\u001b[0m\u001b[0;34m,\u001b[0m \u001b[0maxis\u001b[0m\u001b[0;34m,\u001b[0m \u001b[0mname\u001b[0m\u001b[0;34m=\u001b[0m\u001b[0mname\u001b[0m\u001b[0;34m)\u001b[0m\u001b[0;34m\u001b[0m\u001b[0;34m\u001b[0m\u001b[0m\n\u001b[0m\u001b[1;32m   4525\u001b[0m \u001b[0;34m\u001b[0m\u001b[0m\n\u001b[1;32m   4526\u001b[0m \u001b[0;34m\u001b[0m\u001b[0m\n",
            "\u001b[0;32m/usr/local/lib/python3.6/dist-packages/tensorflow/python/ops/gen_array_ops.py\u001b[0m in \u001b[0;36mgather_v2\u001b[0;34m(params, indices, axis, batch_dims, name)\u001b[0m\n\u001b[1;32m   3753\u001b[0m         \u001b[0;32mpass\u001b[0m  \u001b[0;31m# Add nodes to the TensorFlow graph.\u001b[0m\u001b[0;34m\u001b[0m\u001b[0;34m\u001b[0m\u001b[0m\n\u001b[1;32m   3754\u001b[0m     \u001b[0;32mexcept\u001b[0m \u001b[0m_core\u001b[0m\u001b[0;34m.\u001b[0m\u001b[0m_NotOkStatusException\u001b[0m \u001b[0;32mas\u001b[0m \u001b[0me\u001b[0m\u001b[0;34m:\u001b[0m\u001b[0;34m\u001b[0m\u001b[0;34m\u001b[0m\u001b[0m\n\u001b[0;32m-> 3755\u001b[0;31m       \u001b[0m_ops\u001b[0m\u001b[0;34m.\u001b[0m\u001b[0mraise_from_not_ok_status\u001b[0m\u001b[0;34m(\u001b[0m\u001b[0me\u001b[0m\u001b[0;34m,\u001b[0m \u001b[0mname\u001b[0m\u001b[0;34m)\u001b[0m\u001b[0;34m\u001b[0m\u001b[0;34m\u001b[0m\u001b[0m\n\u001b[0m\u001b[1;32m   3756\u001b[0m   \u001b[0;31m# Add nodes to the TensorFlow graph.\u001b[0m\u001b[0;34m\u001b[0m\u001b[0;34m\u001b[0m\u001b[0;34m\u001b[0m\u001b[0m\n\u001b[1;32m   3757\u001b[0m   \u001b[0;32mif\u001b[0m \u001b[0mbatch_dims\u001b[0m \u001b[0;32mis\u001b[0m \u001b[0;32mNone\u001b[0m\u001b[0;34m:\u001b[0m\u001b[0;34m\u001b[0m\u001b[0;34m\u001b[0m\u001b[0m\n",
            "\u001b[0;32m/usr/local/lib/python3.6/dist-packages/tensorflow/python/framework/ops.py\u001b[0m in \u001b[0;36mraise_from_not_ok_status\u001b[0;34m(e, name)\u001b[0m\n\u001b[1;32m   6651\u001b[0m   \u001b[0mmessage\u001b[0m \u001b[0;34m=\u001b[0m \u001b[0me\u001b[0m\u001b[0;34m.\u001b[0m\u001b[0mmessage\u001b[0m \u001b[0;34m+\u001b[0m \u001b[0;34m(\u001b[0m\u001b[0;34m\" name: \"\u001b[0m \u001b[0;34m+\u001b[0m \u001b[0mname\u001b[0m \u001b[0;32mif\u001b[0m \u001b[0mname\u001b[0m \u001b[0;32mis\u001b[0m \u001b[0;32mnot\u001b[0m \u001b[0;32mNone\u001b[0m \u001b[0;32melse\u001b[0m \u001b[0;34m\"\"\u001b[0m\u001b[0;34m)\u001b[0m\u001b[0;34m\u001b[0m\u001b[0;34m\u001b[0m\u001b[0m\n\u001b[1;32m   6652\u001b[0m   \u001b[0;31m# pylint: disable=protected-access\u001b[0m\u001b[0;34m\u001b[0m\u001b[0;34m\u001b[0m\u001b[0;34m\u001b[0m\u001b[0m\n\u001b[0;32m-> 6653\u001b[0;31m   \u001b[0msix\u001b[0m\u001b[0;34m.\u001b[0m\u001b[0mraise_from\u001b[0m\u001b[0;34m(\u001b[0m\u001b[0mcore\u001b[0m\u001b[0;34m.\u001b[0m\u001b[0m_status_to_exception\u001b[0m\u001b[0;34m(\u001b[0m\u001b[0me\u001b[0m\u001b[0;34m.\u001b[0m\u001b[0mcode\u001b[0m\u001b[0;34m,\u001b[0m \u001b[0mmessage\u001b[0m\u001b[0;34m)\u001b[0m\u001b[0;34m,\u001b[0m \u001b[0;32mNone\u001b[0m\u001b[0;34m)\u001b[0m\u001b[0;34m\u001b[0m\u001b[0;34m\u001b[0m\u001b[0m\n\u001b[0m\u001b[1;32m   6654\u001b[0m   \u001b[0;31m# pylint: enable=protected-access\u001b[0m\u001b[0;34m\u001b[0m\u001b[0;34m\u001b[0m\u001b[0;34m\u001b[0m\u001b[0m\n\u001b[1;32m   6655\u001b[0m \u001b[0;34m\u001b[0m\u001b[0m\n",
            "\u001b[0;32m/usr/local/lib/python3.6/dist-packages/six.py\u001b[0m in \u001b[0;36mraise_from\u001b[0;34m(value, from_value)\u001b[0m\n",
            "\u001b[0;31mInvalidArgumentError\u001b[0m: indices[0,2] = 32 is not in [0, 10) [Op:GatherV2]"
          ]
        }
      ]
    },
    {
      "cell_type": "code",
      "metadata": {
        "id": "dOaH81TF3pal",
        "colab_type": "code",
        "colab": {
          "base_uri": "https://localhost:8080/",
          "height": 448
        },
        "outputId": "84f40ea7-99a5-47b5-e337-7023be53126d"
      },
      "source": [
        "#@title Visualize loss curves  { form-width: \"30%\" }\n",
        "\n",
        "# This cell visualizes the results of training. You can visualize the\n",
        "# intermediate results by interrupting execution of the cell above, and running\n",
        "# this cell. You can then resume training by simply executing the above cell\n",
        "# again.\n",
        "\n",
        "def get_node_trajectories(rollout_array, batch_size):  # pylint: disable=redefined-outer-name\n",
        "  return np.split(rollout_array[..., :2], batch_size, axis=1)\n",
        "\n",
        "\n",
        "fig = plt.figure(1, figsize=(18, 3))\n",
        "fig.clf()\n",
        "x = np.array(logged_iterations)\n",
        "# Next-step Loss.\n",
        "y = losses_tr\n",
        "ax = fig.add_subplot(1, 3, 1)\n",
        "ax.plot(x, y, \"k\")\n",
        "ax.set_title(\"Next step loss\")\n",
        "# Rollout 5 loss.\n",
        "y = losses_4_ge\n",
        "ax = fig.add_subplot(1, 3, 2)\n",
        "ax.plot(x, y, \"k\")\n",
        "ax.set_title(\"Rollout loss: 5-mass string\")\n",
        "# Rollout 9 loss.\n",
        "y = losses_9_ge\n",
        "ax = fig.add_subplot(1, 3, 3)\n",
        "ax.plot(x, y, \"k\")\n",
        "ax.set_title(\"Rollout loss: 9-mass string\")\n",
        "\n",
        "# Visualize trajectories.\n",
        "true_rollouts_4 = get_node_trajectories(test_values[\"true_rollout_4\"],\n",
        "                                        batch_size_ge)\n",
        "predicted_rollouts_4 = get_node_trajectories(test_values[\"predicted_rollout_4\"],\n",
        "                                             batch_size_ge)\n",
        "true_rollouts_9 = get_node_trajectories(test_values[\"true_rollout_9\"],\n",
        "                                        batch_size_ge)\n",
        "predicted_rollouts_9 = get_node_trajectories(test_values[\"predicted_rollout_9\"],\n",
        "                                             batch_size_ge)\n",
        "\n",
        "true_rollouts = true_rollouts_4\n",
        "predicted_rollouts = predicted_rollouts_4\n",
        "true_rollouts = true_rollouts_9\n",
        "predicted_rollouts = predicted_rollouts_9\n",
        "\n",
        "num_graphs = len(true_rollouts)\n",
        "num_time_steps = true_rollouts[0].shape[0]\n",
        "\n",
        "# Plot state sequences.\n",
        "max_graphs_to_plot = 1\n",
        "num_graphs_to_plot = min(num_graphs, max_graphs_to_plot)\n",
        "num_steps_to_plot = 24\n",
        "max_time_step = num_time_steps - 1\n",
        "step_indices = np.floor(np.linspace(0, max_time_step,\n",
        "                                    num_steps_to_plot)).astype(int).tolist()\n",
        "w = 6\n",
        "h = int(np.ceil(num_steps_to_plot / w))\n",
        "fig = plt.figure(101, figsize=(18, 8))\n",
        "fig.clf()\n",
        "for i, (true_rollout, predicted_rollout) in enumerate(\n",
        "    zip(true_rollouts, predicted_rollouts)):\n",
        "  xys = np.hstack([predicted_rollout, true_rollout]).reshape([-1, 2])\n",
        "  xs = xys[:, 0]\n",
        "  ys = xys[:, 1]\n",
        "  b = 0.05\n",
        "  xmin = xs.min() - b * xs.ptp()\n",
        "  xmax = xs.max() + b * xs.ptp()\n",
        "  ymin = ys.min() - b * ys.ptp()\n",
        "  ymax = ys.max() + b * ys.ptp()\n",
        "  if i >= num_graphs_to_plot:\n",
        "    break\n",
        "  for j, step_index in enumerate(step_indices):\n",
        "    iax = i * w + j + 1\n",
        "    ax = fig.add_subplot(h, w, iax)\n",
        "    ax.plot(\n",
        "        true_rollout[step_index, :, 0],\n",
        "        true_rollout[step_index, :, 1],\n",
        "        \"k\",\n",
        "        label=\"True\")\n",
        "    ax.plot(\n",
        "        predicted_rollout[step_index, :, 0],\n",
        "        predicted_rollout[step_index, :, 1],\n",
        "        \"r\",\n",
        "        label=\"Predicted\")\n",
        "    ax.set_title(\"Example {:02d}: frame {:03d}\".format(i, step_index))\n",
        "    ax.set_xlim(xmin, xmax)\n",
        "    ax.set_ylim(ymin, ymax)\n",
        "    ax.set_xticks([])\n",
        "    ax.set_yticks([])\n",
        "    if j == 0:\n",
        "      ax.legend(loc=3)\n",
        "\n",
        "# Plot x and y trajectories over time.\n",
        "max_graphs_to_plot = 3\n",
        "num_graphs_to_plot = min(len(true_rollouts), max_graphs_to_plot)\n",
        "w = 2\n",
        "h = num_graphs_to_plot\n",
        "fig = plt.figure(102, figsize=(18, 12))\n",
        "fig.clf()\n",
        "for i, (true_rollout, predicted_rollout) in enumerate(\n",
        "    zip(true_rollouts, predicted_rollouts)):\n",
        "  if i >= num_graphs_to_plot:\n",
        "    break\n",
        "  t = np.arange(num_time_steps)\n",
        "  for j in range(2):\n",
        "    coord_string = \"x\" if j == 0 else \"y\"\n",
        "    iax = i * 2 + j + 1\n",
        "    ax = fig.add_subplot(h, w, iax)\n",
        "    ax.plot(t, true_rollout[..., j], \"k\", label=\"True\")\n",
        "    ax.plot(t, predicted_rollout[..., j], \"r\", label=\"Predicted\")\n",
        "    ax.set_xlabel(\"Time\")\n",
        "    ax.set_ylabel(\"{} coordinate\".format(coord_string))\n",
        "    ax.set_title(\"Example {:02d}: Predicted vs actual coords over time\".format(\n",
        "        i))\n",
        "    ax.set_frame_on(False)\n",
        "    if i == 0 and j == 1:\n",
        "      handles, labels = ax.get_legend_handles_labels()\n",
        "      unique_labels = []\n",
        "      unique_handles = []\n",
        "      for i, (handle, label) in enumerate(zip(handles, labels)):  # pylint: disable=redefined-outer-name\n",
        "        if label not in unique_labels:\n",
        "          unique_labels.append(label)\n",
        "          unique_handles.append(handle)\n",
        "      ax.legend(unique_handles, unique_labels, loc=3)"
      ],
      "execution_count": 42,
      "outputs": [
        {
          "output_type": "error",
          "ename": "NameError",
          "evalue": "ignored",
          "traceback": [
            "\u001b[0;31m---------------------------------------------------------------------------\u001b[0m",
            "\u001b[0;31mNameError\u001b[0m                                 Traceback (most recent call last)",
            "\u001b[0;32m<ipython-input-42-a94b718238e0>\u001b[0m in \u001b[0;36m<module>\u001b[0;34m()\u001b[0m\n\u001b[1;32m     19\u001b[0m \u001b[0max\u001b[0m\u001b[0;34m.\u001b[0m\u001b[0mset_title\u001b[0m\u001b[0;34m(\u001b[0m\u001b[0;34m\"Next step loss\"\u001b[0m\u001b[0;34m)\u001b[0m\u001b[0;34m\u001b[0m\u001b[0;34m\u001b[0m\u001b[0m\n\u001b[1;32m     20\u001b[0m \u001b[0;31m# Rollout 5 loss.\u001b[0m\u001b[0;34m\u001b[0m\u001b[0;34m\u001b[0m\u001b[0;34m\u001b[0m\u001b[0m\n\u001b[0;32m---> 21\u001b[0;31m \u001b[0my\u001b[0m \u001b[0;34m=\u001b[0m \u001b[0mlosses_4_ge\u001b[0m\u001b[0;34m\u001b[0m\u001b[0;34m\u001b[0m\u001b[0m\n\u001b[0m\u001b[1;32m     22\u001b[0m \u001b[0max\u001b[0m \u001b[0;34m=\u001b[0m \u001b[0mfig\u001b[0m\u001b[0;34m.\u001b[0m\u001b[0madd_subplot\u001b[0m\u001b[0;34m(\u001b[0m\u001b[0;36m1\u001b[0m\u001b[0;34m,\u001b[0m \u001b[0;36m3\u001b[0m\u001b[0;34m,\u001b[0m \u001b[0;36m2\u001b[0m\u001b[0;34m)\u001b[0m\u001b[0;34m\u001b[0m\u001b[0;34m\u001b[0m\u001b[0m\n\u001b[1;32m     23\u001b[0m \u001b[0max\u001b[0m\u001b[0;34m.\u001b[0m\u001b[0mplot\u001b[0m\u001b[0;34m(\u001b[0m\u001b[0mx\u001b[0m\u001b[0;34m,\u001b[0m \u001b[0my\u001b[0m\u001b[0;34m,\u001b[0m \u001b[0;34m\"k\"\u001b[0m\u001b[0;34m)\u001b[0m\u001b[0;34m\u001b[0m\u001b[0;34m\u001b[0m\u001b[0m\n",
            "\u001b[0;31mNameError\u001b[0m: name 'losses_4_ge' is not defined"
          ]
        },
        {
          "output_type": "display_data",
          "data": {
            "image/png": "[encoded data removed]",
            "text/plain": [
              "<Figure size 1296x216 with 1 Axes>"
            ]
          },
          "metadata": {
            "tags": [],
            "needs_background": "light"
          }
        }
      ]
    },
    {
      "cell_type": "code",
      "metadata": {
        "id": "A8hmfU2U_1Dp",
        "colab_type": "code",
        "colab": {}
      },
      "source": [
        "indices = [0, 1, 11]\n",
        "depth = 3\n",
        "tf.one_hot(indices, depth)  # output: [3 x 3]\n"
      ],
      "execution_count": 0,
      "outputs": []
    }
  ]
}